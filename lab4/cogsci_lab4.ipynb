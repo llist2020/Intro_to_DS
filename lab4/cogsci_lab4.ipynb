{
 "cells": [
  {
   "cell_type": "markdown",
   "id": "30e9ce05",
   "metadata": {},
   "source": [
    "# Laboratory exercise 4\n",
    "\n",
    "In this laboratory exercise you will use the questionnaire and answers given below"
   ]
  },
  {
   "cell_type": "code",
   "execution_count": 1,
   "id": "d6820020",
   "metadata": {},
   "outputs": [],
   "source": [
    "import pandas as pd"
   ]
  },
  {
   "cell_type": "code",
   "execution_count": 2,
   "id": "c53f916c",
   "metadata": {},
   "outputs": [],
   "source": [
    "qdf = pd.DataFrame({'Q1': [1, 2, 2, 3, 2, 2, 3, 3, 2, 3],\n",
    "                    'Q2': [1, 1, 1, 2, 3, 3, 2, 3, 3, 3],\n",
    "                    'Q3': [1, 1, 2, 1, 2, 3, 3, 3, 2, 3]})"
   ]
  },
  {
   "cell_type": "code",
   "execution_count": 3,
   "metadata": {},
   "outputs": [
    {
     "data": {
      "text/html": [
       "<div>\n",
       "<style scoped>\n",
       "    .dataframe tbody tr th:only-of-type {\n",
       "        vertical-align: middle;\n",
       "    }\n",
       "\n",
       "    .dataframe tbody tr th {\n",
       "        vertical-align: top;\n",
       "    }\n",
       "\n",
       "    .dataframe thead th {\n",
       "        text-align: right;\n",
       "    }\n",
       "</style>\n",
       "<table border=\"1\" class=\"dataframe\">\n",
       "  <thead>\n",
       "    <tr style=\"text-align: right;\">\n",
       "      <th></th>\n",
       "      <th>0</th>\n",
       "      <th>1</th>\n",
       "      <th>2</th>\n",
       "      <th>3</th>\n",
       "      <th>4</th>\n",
       "      <th>5</th>\n",
       "      <th>6</th>\n",
       "      <th>7</th>\n",
       "      <th>8</th>\n",
       "      <th>9</th>\n",
       "    </tr>\n",
       "  </thead>\n",
       "  <tbody>\n",
       "    <tr>\n",
       "      <th>Q1</th>\n",
       "      <td>1</td>\n",
       "      <td>2</td>\n",
       "      <td>2</td>\n",
       "      <td>3</td>\n",
       "      <td>2</td>\n",
       "      <td>2</td>\n",
       "      <td>3</td>\n",
       "      <td>3</td>\n",
       "      <td>2</td>\n",
       "      <td>3</td>\n",
       "    </tr>\n",
       "    <tr>\n",
       "      <th>Q2</th>\n",
       "      <td>1</td>\n",
       "      <td>1</td>\n",
       "      <td>1</td>\n",
       "      <td>2</td>\n",
       "      <td>3</td>\n",
       "      <td>3</td>\n",
       "      <td>2</td>\n",
       "      <td>3</td>\n",
       "      <td>3</td>\n",
       "      <td>3</td>\n",
       "    </tr>\n",
       "    <tr>\n",
       "      <th>Q3</th>\n",
       "      <td>1</td>\n",
       "      <td>1</td>\n",
       "      <td>2</td>\n",
       "      <td>1</td>\n",
       "      <td>2</td>\n",
       "      <td>3</td>\n",
       "      <td>3</td>\n",
       "      <td>3</td>\n",
       "      <td>2</td>\n",
       "      <td>3</td>\n",
       "    </tr>\n",
       "  </tbody>\n",
       "</table>\n",
       "</div>"
      ],
      "text/plain": [
       "    0  1  2  3  4  5  6  7  8  9\n",
       "Q1  1  2  2  3  2  2  3  3  2  3\n",
       "Q2  1  1  1  2  3  3  2  3  3  3\n",
       "Q3  1  1  2  1  2  3  3  3  2  3"
      ]
     },
     "metadata": {},
     "output_type": "display_data"
    }
   ],
   "source": [
    "display(qdf.T)"
   ]
  },
  {
   "cell_type": "markdown",
   "id": "ce36a49d",
   "metadata": {},
   "source": [
    "1. Write a function to detrmine the realiability of the questionnaire answers with Cronbach's Alpha."
   ]
  },
  {
   "cell_type": "markdown",
   "id": "fecb2ffd",
   "metadata": {},
   "source": [
    "$$r_{xy} = \\dfrac{\\sum_{i=1}^n (x_i - \\bar x)(y_i - \\bar y)}{\\sqrt{\\sum_{i=1}^n (x_i - \\bar x)^2 \\sum_{i=1}^n (y_i - \\bar y)^2}}$$"
   ]
  },
  {
   "cell_type": "code",
   "execution_count": 4,
   "metadata": {},
   "outputs": [],
   "source": [
    "def calc_corr(df):\n",
    "    # funkcija koja vraća korelacijsku matricu između svih parova stupaca\n",
    "    # u df objektu koristeći gornju formulu\n",
    "    out = []\n",
    "    cols = df.columns # imena stupaca\n",
    "    for colx in cols:\n",
    "        out.append([])\n",
    "        for coly in cols:\n",
    "            # inicijalizacija varijabli potrebnih za izračun\n",
    "            # vrijednosti korelacije između stupaca colx i coly\n",
    "            xbar = df[colx].mean()\n",
    "            ybar = df[coly].mean()\n",
    "            numerator = 0\n",
    "            d_sum_x = 0\n",
    "            d_sum_y = 0\n",
    "            for i in range(len(df)):\n",
    "                # za sve retke tablice računa se omjer suma i korijena umnoška suma prema funkciji\n",
    "                numerator += (df.loc[i, colx]-xbar)*(df.loc[i, coly]-ybar)\n",
    "                d_sum_x += (df.loc[i, colx]-xbar)**2\n",
    "                d_sum_y += (df.loc[i, coly]-xbar)**2\n",
    "            denominator = (d_sum_y*d_sum_x)**(1/2)\n",
    "            # dodatak retka u korelacijsku matricu\n",
    "            out[-1].append(numerator/denominator)\n",
    "    return pd.DataFrame(out)"
   ]
  },
  {
   "cell_type": "code",
   "execution_count": 5,
   "metadata": {},
   "outputs": [
    {
     "data": {
      "text/html": [
       "<div>\n",
       "<style scoped>\n",
       "    .dataframe tbody tr th:only-of-type {\n",
       "        vertical-align: middle;\n",
       "    }\n",
       "\n",
       "    .dataframe tbody tr th {\n",
       "        vertical-align: top;\n",
       "    }\n",
       "\n",
       "    .dataframe thead th {\n",
       "        text-align: right;\n",
       "    }\n",
       "</style>\n",
       "<table border=\"1\" class=\"dataframe\">\n",
       "  <thead>\n",
       "    <tr style=\"text-align: right;\">\n",
       "      <th></th>\n",
       "      <th>0</th>\n",
       "      <th>1</th>\n",
       "      <th>2</th>\n",
       "    </tr>\n",
       "  </thead>\n",
       "  <tbody>\n",
       "    <tr>\n",
       "      <th>0</th>\n",
       "      <td>1.000000</td>\n",
       "      <td>0.427144</td>\n",
       "      <td>0.493526</td>\n",
       "    </tr>\n",
       "    <tr>\n",
       "      <th>1</th>\n",
       "      <td>0.424795</td>\n",
       "      <td>1.000000</td>\n",
       "      <td>0.658090</td>\n",
       "    </tr>\n",
       "    <tr>\n",
       "      <th>2</th>\n",
       "      <td>0.484544</td>\n",
       "      <td>0.658524</td>\n",
       "      <td>1.000000</td>\n",
       "    </tr>\n",
       "  </tbody>\n",
       "</table>\n",
       "</div>"
      ],
      "text/plain": [
       "          0         1         2\n",
       "0  1.000000  0.427144  0.493526\n",
       "1  0.424795  1.000000  0.658090\n",
       "2  0.484544  0.658524  1.000000"
      ]
     },
     "metadata": {},
     "output_type": "display_data"
    }
   ],
   "source": [
    "corr_matrix_df = calc_corr(qdf)\n",
    "display(corr_matrix_df)"
   ]
  },
  {
   "cell_type": "code",
   "execution_count": 6,
   "metadata": {},
   "outputs": [
    {
     "name": "stdout",
     "output_type": "stream",
     "text": [
      "Cronbach`s alpha of this questionairre is 0.769.\n"
     ]
    }
   ],
   "source": [
    "corr_bar = (corr_matrix_df.iloc[0,1]+corr_matrix_df.iloc[0,2]+corr_matrix_df.iloc[1,2])/3\n",
    "c_alpha = 3*corr_bar/(1+(3-1)*corr_bar)\n",
    "\n",
    "print(f\"Cronbach`s alpha of this questionairre is {round(c_alpha, 3)}.\")"
   ]
  },
  {
   "cell_type": "markdown",
   "id": "69cb9d0a",
   "metadata": {},
   "source": [
    "2. Explain the differences between in-house data labeling, crowdsourcing and outsourcing. "
   ]
  },
  {
   "cell_type": "markdown",
   "metadata": {},
   "source": [
    "### In-house data labeling\n",
    "- means you already have annotators **within your company** that go through the datasets and label them according to your needs.\n",
    "- an example is ex PhotoMath - they hired students to annotate the content provided by their users.\n",
    "\n",
    "### Crowdsourced data labeling\n",
    "- means you use \"annotators\" **outside** your company that label the datasets without control or commitment, but **for free**, **little by little**.\n",
    "- the idea is to find a lot of volunteers either in a \"I'm not a robot\" scheme or in another contributing platform explicit about the intentions.\n",
    "\n",
    "### Outsourced data labeling\n",
    "- means you **hire** annotators from another company/agency that label the datasets according to your quality benchmarks, for an agreed **fee**."
   ]
  },
  {
   "cell_type": "markdown",
   "metadata": {},
   "source": [
    "#"
   ]
  },
  {
   "cell_type": "markdown",
   "id": "ce3d3e91",
   "metadata": {},
   "source": [
    "3. Explain the main differences between annotation for image classification, object detection and image segmentation."
   ]
  },
  {
   "cell_type": "markdown",
   "metadata": {},
   "source": [
    "Image classification is the annotation type where the annotator appends labels to images related to the **category** of the item(s) represented in the images.\\\n",
    "Object detection is the form of annotation that **maps** the objects of interest in the image or video to **their position constrained** by a box, a circle or another border.\\\n",
    "Image segmentation may be understood the nex level of object detection where the annotations include **wrapping individual objects** along their **contours** in a separate way, **apart from other objects**, and the background."
   ]
  }
 ],
 "metadata": {
  "kernelspec": {
   "display_name": "Python 3 (ipykernel)",
   "language": "python",
   "name": "python3"
  },
  "language_info": {
   "codemirror_mode": {
    "name": "ipython",
    "version": 3
   },
   "file_extension": ".py",
   "mimetype": "text/x-python",
   "name": "python",
   "nbconvert_exporter": "python",
   "pygments_lexer": "ipython3",
   "version": "3.11.5"
  }
 },
 "nbformat": 4,
 "nbformat_minor": 5
}
