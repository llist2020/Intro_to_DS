{
 "cells": [
  {
   "cell_type": "code",
   "execution_count": 1,
   "metadata": {},
   "outputs": [],
   "source": [
    "import pandas as pd\n",
    "import numpy as np\n",
    "import matplotlib.pyplot as plt\n",
    "from sklearn.ensemble import RandomForestClassifier\n",
    "from sklearn.neighbors import KNeighborsClassifier\n",
    "from sklearn.svm import SVC\n",
    "from sklearn.model_selection import train_test_split\n",
    "from sklearn.metrics import classification_report, confusion_matrix, ConfusionMatrixDisplay, roc_auc_score, roc_curve\n",
    "import plotly.express as px\n",
    "import seaborn as sns\n",
    "from sklearn.preprocessing import LabelEncoder, StandardScaler"
   ]
  },
  {
   "cell_type": "code",
   "execution_count": 2,
   "metadata": {},
   "outputs": [],
   "source": [
    "feat_df = pd.read_csv(\"features.csv\", sep=\";\", index_col=0)\n",
    "tgt_df = pd.read_csv(\"targets.csv\", sep=\";\", index_col=0)\n",
    "\n",
    "le = LabelEncoder()"
   ]
  },
  {
   "cell_type": "code",
   "execution_count": 3,
   "metadata": {},
   "outputs": [
    {
     "name": "stdout",
     "output_type": "stream",
     "text": [
      "All 30 features are of float64 type, while the Diagnosis is of object type.\n",
      "To simplify the data manipulation, the Diagnosis shall be numerically encoded.\n"
     ]
    }
   ],
   "source": [
    "print(f\"All {(feat_df.dtypes=='float64').sum()} features are of float64 type, while the Diagnosis is of {tgt_df.dtypes.values[0]} type.\")\n",
    "print(\"To simplify the data manipulation, the Diagnosis shall be numerically encoded.\")"
   ]
  },
  {
   "cell_type": "code",
   "execution_count": 4,
   "metadata": {},
   "outputs": [
    {
     "name": "stdout",
     "output_type": "stream",
     "text": [
      "['B' 'M'] [0 1]\n"
     ]
    },
    {
     "data": {
      "text/html": [
       "<div>\n",
       "<style scoped>\n",
       "    .dataframe tbody tr th:only-of-type {\n",
       "        vertical-align: middle;\n",
       "    }\n",
       "\n",
       "    .dataframe tbody tr th {\n",
       "        vertical-align: top;\n",
       "    }\n",
       "\n",
       "    .dataframe thead th {\n",
       "        text-align: right;\n",
       "    }\n",
       "</style>\n",
       "<table border=\"1\" class=\"dataframe\">\n",
       "  <thead>\n",
       "    <tr style=\"text-align: right;\">\n",
       "      <th></th>\n",
       "      <th>radius1</th>\n",
       "      <th>texture1</th>\n",
       "      <th>perimeter1</th>\n",
       "      <th>area1</th>\n",
       "      <th>smoothness1</th>\n",
       "      <th>compactness1</th>\n",
       "      <th>concavity1</th>\n",
       "      <th>concave_points1</th>\n",
       "      <th>symmetry1</th>\n",
       "      <th>fractal_dimension1</th>\n",
       "      <th>...</th>\n",
       "      <th>texture3</th>\n",
       "      <th>perimeter3</th>\n",
       "      <th>area3</th>\n",
       "      <th>smoothness3</th>\n",
       "      <th>compactness3</th>\n",
       "      <th>concavity3</th>\n",
       "      <th>concave_points3</th>\n",
       "      <th>symmetry3</th>\n",
       "      <th>fractal_dimension3</th>\n",
       "      <th>Diagnosis</th>\n",
       "    </tr>\n",
       "  </thead>\n",
       "  <tbody>\n",
       "    <tr>\n",
       "      <th>0</th>\n",
       "      <td>17.99</td>\n",
       "      <td>10.38</td>\n",
       "      <td>122.80</td>\n",
       "      <td>1001.0</td>\n",
       "      <td>0.11840</td>\n",
       "      <td>0.27760</td>\n",
       "      <td>0.30010</td>\n",
       "      <td>0.14710</td>\n",
       "      <td>0.2419</td>\n",
       "      <td>0.07871</td>\n",
       "      <td>...</td>\n",
       "      <td>17.33</td>\n",
       "      <td>184.60</td>\n",
       "      <td>2019.0</td>\n",
       "      <td>0.16220</td>\n",
       "      <td>0.66560</td>\n",
       "      <td>0.7119</td>\n",
       "      <td>0.2654</td>\n",
       "      <td>0.4601</td>\n",
       "      <td>0.11890</td>\n",
       "      <td>1</td>\n",
       "    </tr>\n",
       "    <tr>\n",
       "      <th>1</th>\n",
       "      <td>20.57</td>\n",
       "      <td>17.77</td>\n",
       "      <td>132.90</td>\n",
       "      <td>1326.0</td>\n",
       "      <td>0.08474</td>\n",
       "      <td>0.07864</td>\n",
       "      <td>0.08690</td>\n",
       "      <td>0.07017</td>\n",
       "      <td>0.1812</td>\n",
       "      <td>0.05667</td>\n",
       "      <td>...</td>\n",
       "      <td>23.41</td>\n",
       "      <td>158.80</td>\n",
       "      <td>1956.0</td>\n",
       "      <td>0.12380</td>\n",
       "      <td>0.18660</td>\n",
       "      <td>0.2416</td>\n",
       "      <td>0.1860</td>\n",
       "      <td>0.2750</td>\n",
       "      <td>0.08902</td>\n",
       "      <td>1</td>\n",
       "    </tr>\n",
       "    <tr>\n",
       "      <th>2</th>\n",
       "      <td>19.69</td>\n",
       "      <td>21.25</td>\n",
       "      <td>130.00</td>\n",
       "      <td>1203.0</td>\n",
       "      <td>0.10960</td>\n",
       "      <td>0.15990</td>\n",
       "      <td>0.19740</td>\n",
       "      <td>0.12790</td>\n",
       "      <td>0.2069</td>\n",
       "      <td>0.05999</td>\n",
       "      <td>...</td>\n",
       "      <td>25.53</td>\n",
       "      <td>152.50</td>\n",
       "      <td>1709.0</td>\n",
       "      <td>0.14440</td>\n",
       "      <td>0.42450</td>\n",
       "      <td>0.4504</td>\n",
       "      <td>0.2430</td>\n",
       "      <td>0.3613</td>\n",
       "      <td>0.08758</td>\n",
       "      <td>1</td>\n",
       "    </tr>\n",
       "    <tr>\n",
       "      <th>3</th>\n",
       "      <td>11.42</td>\n",
       "      <td>20.38</td>\n",
       "      <td>77.58</td>\n",
       "      <td>386.1</td>\n",
       "      <td>0.14250</td>\n",
       "      <td>0.28390</td>\n",
       "      <td>0.24140</td>\n",
       "      <td>0.10520</td>\n",
       "      <td>0.2597</td>\n",
       "      <td>0.09744</td>\n",
       "      <td>...</td>\n",
       "      <td>26.50</td>\n",
       "      <td>98.87</td>\n",
       "      <td>567.7</td>\n",
       "      <td>0.20980</td>\n",
       "      <td>0.86630</td>\n",
       "      <td>0.6869</td>\n",
       "      <td>0.2575</td>\n",
       "      <td>0.6638</td>\n",
       "      <td>0.17300</td>\n",
       "      <td>1</td>\n",
       "    </tr>\n",
       "    <tr>\n",
       "      <th>4</th>\n",
       "      <td>20.29</td>\n",
       "      <td>14.34</td>\n",
       "      <td>135.10</td>\n",
       "      <td>1297.0</td>\n",
       "      <td>0.10030</td>\n",
       "      <td>0.13280</td>\n",
       "      <td>0.19800</td>\n",
       "      <td>0.10430</td>\n",
       "      <td>0.1809</td>\n",
       "      <td>0.05883</td>\n",
       "      <td>...</td>\n",
       "      <td>16.67</td>\n",
       "      <td>152.20</td>\n",
       "      <td>1575.0</td>\n",
       "      <td>0.13740</td>\n",
       "      <td>0.20500</td>\n",
       "      <td>0.4000</td>\n",
       "      <td>0.1625</td>\n",
       "      <td>0.2364</td>\n",
       "      <td>0.07678</td>\n",
       "      <td>1</td>\n",
       "    </tr>\n",
       "    <tr>\n",
       "      <th>...</th>\n",
       "      <td>...</td>\n",
       "      <td>...</td>\n",
       "      <td>...</td>\n",
       "      <td>...</td>\n",
       "      <td>...</td>\n",
       "      <td>...</td>\n",
       "      <td>...</td>\n",
       "      <td>...</td>\n",
       "      <td>...</td>\n",
       "      <td>...</td>\n",
       "      <td>...</td>\n",
       "      <td>...</td>\n",
       "      <td>...</td>\n",
       "      <td>...</td>\n",
       "      <td>...</td>\n",
       "      <td>...</td>\n",
       "      <td>...</td>\n",
       "      <td>...</td>\n",
       "      <td>...</td>\n",
       "      <td>...</td>\n",
       "      <td>...</td>\n",
       "    </tr>\n",
       "    <tr>\n",
       "      <th>564</th>\n",
       "      <td>21.56</td>\n",
       "      <td>22.39</td>\n",
       "      <td>142.00</td>\n",
       "      <td>1479.0</td>\n",
       "      <td>0.11100</td>\n",
       "      <td>0.11590</td>\n",
       "      <td>0.24390</td>\n",
       "      <td>0.13890</td>\n",
       "      <td>0.1726</td>\n",
       "      <td>0.05623</td>\n",
       "      <td>...</td>\n",
       "      <td>26.40</td>\n",
       "      <td>166.10</td>\n",
       "      <td>2027.0</td>\n",
       "      <td>0.14100</td>\n",
       "      <td>0.21130</td>\n",
       "      <td>0.4107</td>\n",
       "      <td>0.2216</td>\n",
       "      <td>0.2060</td>\n",
       "      <td>0.07115</td>\n",
       "      <td>1</td>\n",
       "    </tr>\n",
       "    <tr>\n",
       "      <th>565</th>\n",
       "      <td>20.13</td>\n",
       "      <td>28.25</td>\n",
       "      <td>131.20</td>\n",
       "      <td>1261.0</td>\n",
       "      <td>0.09780</td>\n",
       "      <td>0.10340</td>\n",
       "      <td>0.14400</td>\n",
       "      <td>0.09791</td>\n",
       "      <td>0.1752</td>\n",
       "      <td>0.05533</td>\n",
       "      <td>...</td>\n",
       "      <td>38.25</td>\n",
       "      <td>155.00</td>\n",
       "      <td>1731.0</td>\n",
       "      <td>0.11660</td>\n",
       "      <td>0.19220</td>\n",
       "      <td>0.3215</td>\n",
       "      <td>0.1628</td>\n",
       "      <td>0.2572</td>\n",
       "      <td>0.06637</td>\n",
       "      <td>1</td>\n",
       "    </tr>\n",
       "    <tr>\n",
       "      <th>566</th>\n",
       "      <td>16.60</td>\n",
       "      <td>28.08</td>\n",
       "      <td>108.30</td>\n",
       "      <td>858.1</td>\n",
       "      <td>0.08455</td>\n",
       "      <td>0.10230</td>\n",
       "      <td>0.09251</td>\n",
       "      <td>0.05302</td>\n",
       "      <td>0.1590</td>\n",
       "      <td>0.05648</td>\n",
       "      <td>...</td>\n",
       "      <td>34.12</td>\n",
       "      <td>126.70</td>\n",
       "      <td>1124.0</td>\n",
       "      <td>0.11390</td>\n",
       "      <td>0.30940</td>\n",
       "      <td>0.3403</td>\n",
       "      <td>0.1418</td>\n",
       "      <td>0.2218</td>\n",
       "      <td>0.07820</td>\n",
       "      <td>1</td>\n",
       "    </tr>\n",
       "    <tr>\n",
       "      <th>567</th>\n",
       "      <td>20.60</td>\n",
       "      <td>29.33</td>\n",
       "      <td>140.10</td>\n",
       "      <td>1265.0</td>\n",
       "      <td>0.11780</td>\n",
       "      <td>0.27700</td>\n",
       "      <td>0.35140</td>\n",
       "      <td>0.15200</td>\n",
       "      <td>0.2397</td>\n",
       "      <td>0.07016</td>\n",
       "      <td>...</td>\n",
       "      <td>39.42</td>\n",
       "      <td>184.60</td>\n",
       "      <td>1821.0</td>\n",
       "      <td>0.16500</td>\n",
       "      <td>0.86810</td>\n",
       "      <td>0.9387</td>\n",
       "      <td>0.2650</td>\n",
       "      <td>0.4087</td>\n",
       "      <td>0.12400</td>\n",
       "      <td>1</td>\n",
       "    </tr>\n",
       "    <tr>\n",
       "      <th>568</th>\n",
       "      <td>7.76</td>\n",
       "      <td>24.54</td>\n",
       "      <td>47.92</td>\n",
       "      <td>181.0</td>\n",
       "      <td>0.05263</td>\n",
       "      <td>0.04362</td>\n",
       "      <td>0.00000</td>\n",
       "      <td>0.00000</td>\n",
       "      <td>0.1587</td>\n",
       "      <td>0.05884</td>\n",
       "      <td>...</td>\n",
       "      <td>30.37</td>\n",
       "      <td>59.16</td>\n",
       "      <td>268.6</td>\n",
       "      <td>0.08996</td>\n",
       "      <td>0.06444</td>\n",
       "      <td>0.0000</td>\n",
       "      <td>0.0000</td>\n",
       "      <td>0.2871</td>\n",
       "      <td>0.07039</td>\n",
       "      <td>0</td>\n",
       "    </tr>\n",
       "  </tbody>\n",
       "</table>\n",
       "<p>569 rows × 31 columns</p>\n",
       "</div>"
      ],
      "text/plain": [
       "     radius1  texture1  perimeter1   area1  smoothness1  compactness1  \\\n",
       "0      17.99     10.38      122.80  1001.0      0.11840       0.27760   \n",
       "1      20.57     17.77      132.90  1326.0      0.08474       0.07864   \n",
       "2      19.69     21.25      130.00  1203.0      0.10960       0.15990   \n",
       "3      11.42     20.38       77.58   386.1      0.14250       0.28390   \n",
       "4      20.29     14.34      135.10  1297.0      0.10030       0.13280   \n",
       "..       ...       ...         ...     ...          ...           ...   \n",
       "564    21.56     22.39      142.00  1479.0      0.11100       0.11590   \n",
       "565    20.13     28.25      131.20  1261.0      0.09780       0.10340   \n",
       "566    16.60     28.08      108.30   858.1      0.08455       0.10230   \n",
       "567    20.60     29.33      140.10  1265.0      0.11780       0.27700   \n",
       "568     7.76     24.54       47.92   181.0      0.05263       0.04362   \n",
       "\n",
       "     concavity1  concave_points1  symmetry1  fractal_dimension1  ...  \\\n",
       "0       0.30010          0.14710     0.2419             0.07871  ...   \n",
       "1       0.08690          0.07017     0.1812             0.05667  ...   \n",
       "2       0.19740          0.12790     0.2069             0.05999  ...   \n",
       "3       0.24140          0.10520     0.2597             0.09744  ...   \n",
       "4       0.19800          0.10430     0.1809             0.05883  ...   \n",
       "..          ...              ...        ...                 ...  ...   \n",
       "564     0.24390          0.13890     0.1726             0.05623  ...   \n",
       "565     0.14400          0.09791     0.1752             0.05533  ...   \n",
       "566     0.09251          0.05302     0.1590             0.05648  ...   \n",
       "567     0.35140          0.15200     0.2397             0.07016  ...   \n",
       "568     0.00000          0.00000     0.1587             0.05884  ...   \n",
       "\n",
       "     texture3  perimeter3   area3  smoothness3  compactness3  concavity3  \\\n",
       "0       17.33      184.60  2019.0      0.16220       0.66560      0.7119   \n",
       "1       23.41      158.80  1956.0      0.12380       0.18660      0.2416   \n",
       "2       25.53      152.50  1709.0      0.14440       0.42450      0.4504   \n",
       "3       26.50       98.87   567.7      0.20980       0.86630      0.6869   \n",
       "4       16.67      152.20  1575.0      0.13740       0.20500      0.4000   \n",
       "..        ...         ...     ...          ...           ...         ...   \n",
       "564     26.40      166.10  2027.0      0.14100       0.21130      0.4107   \n",
       "565     38.25      155.00  1731.0      0.11660       0.19220      0.3215   \n",
       "566     34.12      126.70  1124.0      0.11390       0.30940      0.3403   \n",
       "567     39.42      184.60  1821.0      0.16500       0.86810      0.9387   \n",
       "568     30.37       59.16   268.6      0.08996       0.06444      0.0000   \n",
       "\n",
       "     concave_points3  symmetry3  fractal_dimension3  Diagnosis  \n",
       "0             0.2654     0.4601             0.11890          1  \n",
       "1             0.1860     0.2750             0.08902          1  \n",
       "2             0.2430     0.3613             0.08758          1  \n",
       "3             0.2575     0.6638             0.17300          1  \n",
       "4             0.1625     0.2364             0.07678          1  \n",
       "..               ...        ...                 ...        ...  \n",
       "564           0.2216     0.2060             0.07115          1  \n",
       "565           0.1628     0.2572             0.06637          1  \n",
       "566           0.1418     0.2218             0.07820          1  \n",
       "567           0.2650     0.4087             0.12400          1  \n",
       "568           0.0000     0.2871             0.07039          0  \n",
       "\n",
       "[569 rows x 31 columns]"
      ]
     },
     "metadata": {},
     "output_type": "display_data"
    }
   ],
   "source": [
    "tgt_df.Diagnosis = le.fit_transform(tgt_df.Diagnosis)\n",
    "print(le.classes_, le.transform(le.classes_))\n",
    "\n",
    "feats = feat_df.columns\n",
    "full_df = feat_df.join(tgt_df)\n",
    "display(full_df)"
   ]
  },
  {
   "cell_type": "code",
   "execution_count": 5,
   "metadata": {},
   "outputs": [
    {
     "name": "stdout",
     "output_type": "stream",
     "text": [
      "These columns represent the mean measurements + the target column:\n",
      "['radius1', 'texture1', 'perimeter1', 'area1', 'smoothness1', 'compactness1', 'concavity1', 'concave_points1', 'symmetry1', 'fractal_dimension1', 'Diagnosis']\n"
     ]
    }
   ],
   "source": [
    "feat_means = list(feat_df.columns[:10])\n",
    "feat_means.append(\"Diagnosis\")\n",
    "print(\"These columns represent the mean measurements + the target column:\")\n",
    "print(feat_means)"
   ]
  },
  {
   "cell_type": "code",
   "execution_count": 6,
   "metadata": {},
   "outputs": [
    {
     "name": "stdout",
     "output_type": "stream",
     "text": [
      "Descriptive statistics:\n"
     ]
    },
    {
     "data": {
      "text/html": [
       "<div>\n",
       "<style scoped>\n",
       "    .dataframe tbody tr th:only-of-type {\n",
       "        vertical-align: middle;\n",
       "    }\n",
       "\n",
       "    .dataframe tbody tr th {\n",
       "        vertical-align: top;\n",
       "    }\n",
       "\n",
       "    .dataframe thead th {\n",
       "        text-align: right;\n",
       "    }\n",
       "</style>\n",
       "<table border=\"1\" class=\"dataframe\">\n",
       "  <thead>\n",
       "    <tr style=\"text-align: right;\">\n",
       "      <th></th>\n",
       "      <th>radius1</th>\n",
       "      <th>texture1</th>\n",
       "      <th>perimeter1</th>\n",
       "      <th>area1</th>\n",
       "      <th>smoothness1</th>\n",
       "      <th>compactness1</th>\n",
       "      <th>concavity1</th>\n",
       "      <th>concave_points1</th>\n",
       "      <th>symmetry1</th>\n",
       "      <th>fractal_dimension1</th>\n",
       "      <th>...</th>\n",
       "      <th>texture3</th>\n",
       "      <th>perimeter3</th>\n",
       "      <th>area3</th>\n",
       "      <th>smoothness3</th>\n",
       "      <th>compactness3</th>\n",
       "      <th>concavity3</th>\n",
       "      <th>concave_points3</th>\n",
       "      <th>symmetry3</th>\n",
       "      <th>fractal_dimension3</th>\n",
       "      <th>Diagnosis</th>\n",
       "    </tr>\n",
       "  </thead>\n",
       "  <tbody>\n",
       "    <tr>\n",
       "      <th>count</th>\n",
       "      <td>569.000000</td>\n",
       "      <td>569.000000</td>\n",
       "      <td>569.000000</td>\n",
       "      <td>569.000000</td>\n",
       "      <td>569.000000</td>\n",
       "      <td>569.000000</td>\n",
       "      <td>569.000000</td>\n",
       "      <td>569.000000</td>\n",
       "      <td>569.000000</td>\n",
       "      <td>569.000000</td>\n",
       "      <td>...</td>\n",
       "      <td>569.000000</td>\n",
       "      <td>569.000000</td>\n",
       "      <td>569.000000</td>\n",
       "      <td>569.000000</td>\n",
       "      <td>569.000000</td>\n",
       "      <td>569.000000</td>\n",
       "      <td>569.000000</td>\n",
       "      <td>569.000000</td>\n",
       "      <td>569.000000</td>\n",
       "      <td>569.000000</td>\n",
       "    </tr>\n",
       "    <tr>\n",
       "      <th>mean</th>\n",
       "      <td>14.127292</td>\n",
       "      <td>19.289649</td>\n",
       "      <td>91.969033</td>\n",
       "      <td>654.889104</td>\n",
       "      <td>0.096360</td>\n",
       "      <td>0.104341</td>\n",
       "      <td>0.088799</td>\n",
       "      <td>0.048919</td>\n",
       "      <td>0.181162</td>\n",
       "      <td>0.062798</td>\n",
       "      <td>...</td>\n",
       "      <td>25.677223</td>\n",
       "      <td>107.261213</td>\n",
       "      <td>880.583128</td>\n",
       "      <td>0.132369</td>\n",
       "      <td>0.254265</td>\n",
       "      <td>0.272188</td>\n",
       "      <td>0.114606</td>\n",
       "      <td>0.290076</td>\n",
       "      <td>0.083946</td>\n",
       "      <td>0.372583</td>\n",
       "    </tr>\n",
       "    <tr>\n",
       "      <th>std</th>\n",
       "      <td>3.524049</td>\n",
       "      <td>4.301036</td>\n",
       "      <td>24.298981</td>\n",
       "      <td>351.914129</td>\n",
       "      <td>0.014064</td>\n",
       "      <td>0.052813</td>\n",
       "      <td>0.079720</td>\n",
       "      <td>0.038803</td>\n",
       "      <td>0.027414</td>\n",
       "      <td>0.007060</td>\n",
       "      <td>...</td>\n",
       "      <td>6.146258</td>\n",
       "      <td>33.602542</td>\n",
       "      <td>569.356993</td>\n",
       "      <td>0.022832</td>\n",
       "      <td>0.157336</td>\n",
       "      <td>0.208624</td>\n",
       "      <td>0.065732</td>\n",
       "      <td>0.061867</td>\n",
       "      <td>0.018061</td>\n",
       "      <td>0.483918</td>\n",
       "    </tr>\n",
       "    <tr>\n",
       "      <th>min</th>\n",
       "      <td>6.981000</td>\n",
       "      <td>9.710000</td>\n",
       "      <td>43.790000</td>\n",
       "      <td>143.500000</td>\n",
       "      <td>0.052630</td>\n",
       "      <td>0.019380</td>\n",
       "      <td>0.000000</td>\n",
       "      <td>0.000000</td>\n",
       "      <td>0.106000</td>\n",
       "      <td>0.049960</td>\n",
       "      <td>...</td>\n",
       "      <td>12.020000</td>\n",
       "      <td>50.410000</td>\n",
       "      <td>185.200000</td>\n",
       "      <td>0.071170</td>\n",
       "      <td>0.027290</td>\n",
       "      <td>0.000000</td>\n",
       "      <td>0.000000</td>\n",
       "      <td>0.156500</td>\n",
       "      <td>0.055040</td>\n",
       "      <td>0.000000</td>\n",
       "    </tr>\n",
       "    <tr>\n",
       "      <th>25%</th>\n",
       "      <td>11.700000</td>\n",
       "      <td>16.170000</td>\n",
       "      <td>75.170000</td>\n",
       "      <td>420.300000</td>\n",
       "      <td>0.086370</td>\n",
       "      <td>0.064920</td>\n",
       "      <td>0.029560</td>\n",
       "      <td>0.020310</td>\n",
       "      <td>0.161900</td>\n",
       "      <td>0.057700</td>\n",
       "      <td>...</td>\n",
       "      <td>21.080000</td>\n",
       "      <td>84.110000</td>\n",
       "      <td>515.300000</td>\n",
       "      <td>0.116600</td>\n",
       "      <td>0.147200</td>\n",
       "      <td>0.114500</td>\n",
       "      <td>0.064930</td>\n",
       "      <td>0.250400</td>\n",
       "      <td>0.071460</td>\n",
       "      <td>0.000000</td>\n",
       "    </tr>\n",
       "    <tr>\n",
       "      <th>50%</th>\n",
       "      <td>13.370000</td>\n",
       "      <td>18.840000</td>\n",
       "      <td>86.240000</td>\n",
       "      <td>551.100000</td>\n",
       "      <td>0.095870</td>\n",
       "      <td>0.092630</td>\n",
       "      <td>0.061540</td>\n",
       "      <td>0.033500</td>\n",
       "      <td>0.179200</td>\n",
       "      <td>0.061540</td>\n",
       "      <td>...</td>\n",
       "      <td>25.410000</td>\n",
       "      <td>97.660000</td>\n",
       "      <td>686.500000</td>\n",
       "      <td>0.131300</td>\n",
       "      <td>0.211900</td>\n",
       "      <td>0.226700</td>\n",
       "      <td>0.099930</td>\n",
       "      <td>0.282200</td>\n",
       "      <td>0.080040</td>\n",
       "      <td>0.000000</td>\n",
       "    </tr>\n",
       "    <tr>\n",
       "      <th>75%</th>\n",
       "      <td>15.780000</td>\n",
       "      <td>21.800000</td>\n",
       "      <td>104.100000</td>\n",
       "      <td>782.700000</td>\n",
       "      <td>0.105300</td>\n",
       "      <td>0.130400</td>\n",
       "      <td>0.130700</td>\n",
       "      <td>0.074000</td>\n",
       "      <td>0.195700</td>\n",
       "      <td>0.066120</td>\n",
       "      <td>...</td>\n",
       "      <td>29.720000</td>\n",
       "      <td>125.400000</td>\n",
       "      <td>1084.000000</td>\n",
       "      <td>0.146000</td>\n",
       "      <td>0.339100</td>\n",
       "      <td>0.382900</td>\n",
       "      <td>0.161400</td>\n",
       "      <td>0.317900</td>\n",
       "      <td>0.092080</td>\n",
       "      <td>1.000000</td>\n",
       "    </tr>\n",
       "    <tr>\n",
       "      <th>max</th>\n",
       "      <td>28.110000</td>\n",
       "      <td>39.280000</td>\n",
       "      <td>188.500000</td>\n",
       "      <td>2501.000000</td>\n",
       "      <td>0.163400</td>\n",
       "      <td>0.345400</td>\n",
       "      <td>0.426800</td>\n",
       "      <td>0.201200</td>\n",
       "      <td>0.304000</td>\n",
       "      <td>0.097440</td>\n",
       "      <td>...</td>\n",
       "      <td>49.540000</td>\n",
       "      <td>251.200000</td>\n",
       "      <td>4254.000000</td>\n",
       "      <td>0.222600</td>\n",
       "      <td>1.058000</td>\n",
       "      <td>1.252000</td>\n",
       "      <td>0.291000</td>\n",
       "      <td>0.663800</td>\n",
       "      <td>0.207500</td>\n",
       "      <td>1.000000</td>\n",
       "    </tr>\n",
       "  </tbody>\n",
       "</table>\n",
       "<p>8 rows × 31 columns</p>\n",
       "</div>"
      ],
      "text/plain": [
       "          radius1    texture1  perimeter1        area1  smoothness1  \\\n",
       "count  569.000000  569.000000  569.000000   569.000000   569.000000   \n",
       "mean    14.127292   19.289649   91.969033   654.889104     0.096360   \n",
       "std      3.524049    4.301036   24.298981   351.914129     0.014064   \n",
       "min      6.981000    9.710000   43.790000   143.500000     0.052630   \n",
       "25%     11.700000   16.170000   75.170000   420.300000     0.086370   \n",
       "50%     13.370000   18.840000   86.240000   551.100000     0.095870   \n",
       "75%     15.780000   21.800000  104.100000   782.700000     0.105300   \n",
       "max     28.110000   39.280000  188.500000  2501.000000     0.163400   \n",
       "\n",
       "       compactness1  concavity1  concave_points1   symmetry1  \\\n",
       "count    569.000000  569.000000       569.000000  569.000000   \n",
       "mean       0.104341    0.088799         0.048919    0.181162   \n",
       "std        0.052813    0.079720         0.038803    0.027414   \n",
       "min        0.019380    0.000000         0.000000    0.106000   \n",
       "25%        0.064920    0.029560         0.020310    0.161900   \n",
       "50%        0.092630    0.061540         0.033500    0.179200   \n",
       "75%        0.130400    0.130700         0.074000    0.195700   \n",
       "max        0.345400    0.426800         0.201200    0.304000   \n",
       "\n",
       "       fractal_dimension1  ...    texture3  perimeter3        area3  \\\n",
       "count          569.000000  ...  569.000000  569.000000   569.000000   \n",
       "mean             0.062798  ...   25.677223  107.261213   880.583128   \n",
       "std              0.007060  ...    6.146258   33.602542   569.356993   \n",
       "min              0.049960  ...   12.020000   50.410000   185.200000   \n",
       "25%              0.057700  ...   21.080000   84.110000   515.300000   \n",
       "50%              0.061540  ...   25.410000   97.660000   686.500000   \n",
       "75%              0.066120  ...   29.720000  125.400000  1084.000000   \n",
       "max              0.097440  ...   49.540000  251.200000  4254.000000   \n",
       "\n",
       "       smoothness3  compactness3  concavity3  concave_points3   symmetry3  \\\n",
       "count   569.000000    569.000000  569.000000       569.000000  569.000000   \n",
       "mean      0.132369      0.254265    0.272188         0.114606    0.290076   \n",
       "std       0.022832      0.157336    0.208624         0.065732    0.061867   \n",
       "min       0.071170      0.027290    0.000000         0.000000    0.156500   \n",
       "25%       0.116600      0.147200    0.114500         0.064930    0.250400   \n",
       "50%       0.131300      0.211900    0.226700         0.099930    0.282200   \n",
       "75%       0.146000      0.339100    0.382900         0.161400    0.317900   \n",
       "max       0.222600      1.058000    1.252000         0.291000    0.663800   \n",
       "\n",
       "       fractal_dimension3   Diagnosis  \n",
       "count          569.000000  569.000000  \n",
       "mean             0.083946    0.372583  \n",
       "std              0.018061    0.483918  \n",
       "min              0.055040    0.000000  \n",
       "25%              0.071460    0.000000  \n",
       "50%              0.080040    0.000000  \n",
       "75%              0.092080    1.000000  \n",
       "max              0.207500    1.000000  \n",
       "\n",
       "[8 rows x 31 columns]"
      ]
     },
     "metadata": {},
     "output_type": "display_data"
    },
    {
     "name": "stdout",
     "output_type": "stream",
     "text": [
      "Index(['radius1', 'texture1', 'perimeter1', 'area1', 'smoothness1',\n",
      "       'compactness1', 'concavity1', 'concave_points1', 'symmetry1',\n",
      "       'fractal_dimension1', 'radius2', 'texture2', 'perimeter2', 'area2',\n",
      "       'smoothness2', 'compactness2', 'concavity2', 'concave_points2',\n",
      "       'symmetry2', 'fractal_dimension2', 'radius3', 'texture3', 'perimeter3',\n",
      "       'area3', 'smoothness3', 'compactness3', 'concavity3', 'concave_points3',\n",
      "       'symmetry3', 'fractal_dimension3', 'Diagnosis'],\n",
      "      dtype='object')\n"
     ]
    }
   ],
   "source": [
    "print(\"Descriptive statistics:\")\n",
    "display(full_df.describe())\n",
    "print(full_df.columns)"
   ]
  },
  {
   "cell_type": "code",
   "execution_count": 7,
   "metadata": {},
   "outputs": [
    {
     "name": "stdout",
     "output_type": "stream",
     "text": [
      "An example comparison of a feature means, worst instances, and its standard deviations:\n"
     ]
    },
    {
     "data": {
      "text/html": [
       "<div>\n",
       "<style scoped>\n",
       "    .dataframe tbody tr th:only-of-type {\n",
       "        vertical-align: middle;\n",
       "    }\n",
       "\n",
       "    .dataframe tbody tr th {\n",
       "        vertical-align: top;\n",
       "    }\n",
       "\n",
       "    .dataframe thead th {\n",
       "        text-align: right;\n",
       "    }\n",
       "</style>\n",
       "<table border=\"1\" class=\"dataframe\">\n",
       "  <thead>\n",
       "    <tr style=\"text-align: right;\">\n",
       "      <th></th>\n",
       "      <th>radius1</th>\n",
       "      <th>radius3</th>\n",
       "      <th>radius2</th>\n",
       "    </tr>\n",
       "  </thead>\n",
       "  <tbody>\n",
       "    <tr>\n",
       "      <th>count</th>\n",
       "      <td>569.000000</td>\n",
       "      <td>569.000000</td>\n",
       "      <td>569.000000</td>\n",
       "    </tr>\n",
       "    <tr>\n",
       "      <th>mean</th>\n",
       "      <td>14.127292</td>\n",
       "      <td>16.269190</td>\n",
       "      <td>0.405172</td>\n",
       "    </tr>\n",
       "    <tr>\n",
       "      <th>std</th>\n",
       "      <td>3.524049</td>\n",
       "      <td>4.833242</td>\n",
       "      <td>0.277313</td>\n",
       "    </tr>\n",
       "    <tr>\n",
       "      <th>min</th>\n",
       "      <td>6.981000</td>\n",
       "      <td>7.930000</td>\n",
       "      <td>0.111500</td>\n",
       "    </tr>\n",
       "    <tr>\n",
       "      <th>25%</th>\n",
       "      <td>11.700000</td>\n",
       "      <td>13.010000</td>\n",
       "      <td>0.232400</td>\n",
       "    </tr>\n",
       "    <tr>\n",
       "      <th>50%</th>\n",
       "      <td>13.370000</td>\n",
       "      <td>14.970000</td>\n",
       "      <td>0.324200</td>\n",
       "    </tr>\n",
       "    <tr>\n",
       "      <th>75%</th>\n",
       "      <td>15.780000</td>\n",
       "      <td>18.790000</td>\n",
       "      <td>0.478900</td>\n",
       "    </tr>\n",
       "    <tr>\n",
       "      <th>max</th>\n",
       "      <td>28.110000</td>\n",
       "      <td>36.040000</td>\n",
       "      <td>2.873000</td>\n",
       "    </tr>\n",
       "  </tbody>\n",
       "</table>\n",
       "</div>"
      ],
      "text/plain": [
       "          radius1     radius3     radius2\n",
       "count  569.000000  569.000000  569.000000\n",
       "mean    14.127292   16.269190    0.405172\n",
       "std      3.524049    4.833242    0.277313\n",
       "min      6.981000    7.930000    0.111500\n",
       "25%     11.700000   13.010000    0.232400\n",
       "50%     13.370000   14.970000    0.324200\n",
       "75%     15.780000   18.790000    0.478900\n",
       "max     28.110000   36.040000    2.873000"
      ]
     },
     "execution_count": 7,
     "metadata": {},
     "output_type": "execute_result"
    }
   ],
   "source": [
    "print(\"An example comparison of a feature means, worst instances, and its standard deviations:\")\n",
    "full_df.describe()[[\"radius1\", \"radius3\", \"radius2\"]]"
   ]
  },
  {
   "cell_type": "markdown",
   "metadata": {},
   "source": [
    "Of course, the worst instances of radius measurements by definition must have higher mean, min/max, and, consequently, std. Also, standard deviations of measurements on individual patients must be lower than the std of the same measurement between patients, which holds."
   ]
  },
  {
   "cell_type": "code",
   "execution_count": 8,
   "metadata": {},
   "outputs": [
    {
     "data": {
      "text/html": [
       "<div>\n",
       "<style scoped>\n",
       "    .dataframe tbody tr th:only-of-type {\n",
       "        vertical-align: middle;\n",
       "    }\n",
       "\n",
       "    .dataframe tbody tr th {\n",
       "        vertical-align: top;\n",
       "    }\n",
       "\n",
       "    .dataframe thead th {\n",
       "        text-align: right;\n",
       "    }\n",
       "</style>\n",
       "<table border=\"1\" class=\"dataframe\">\n",
       "  <thead>\n",
       "    <tr style=\"text-align: right;\">\n",
       "      <th></th>\n",
       "      <th>radius1</th>\n",
       "      <th>texture1</th>\n",
       "      <th>perimeter1</th>\n",
       "      <th>area1</th>\n",
       "      <th>smoothness1</th>\n",
       "      <th>compactness1</th>\n",
       "      <th>concavity1</th>\n",
       "      <th>concave_points1</th>\n",
       "      <th>symmetry1</th>\n",
       "      <th>fractal_dimension1</th>\n",
       "      <th>...</th>\n",
       "      <th>texture3</th>\n",
       "      <th>perimeter3</th>\n",
       "      <th>area3</th>\n",
       "      <th>smoothness3</th>\n",
       "      <th>compactness3</th>\n",
       "      <th>concavity3</th>\n",
       "      <th>concave_points3</th>\n",
       "      <th>symmetry3</th>\n",
       "      <th>fractal_dimension3</th>\n",
       "      <th>Diagnosis</th>\n",
       "    </tr>\n",
       "  </thead>\n",
       "  <tbody>\n",
       "    <tr>\n",
       "      <th>0</th>\n",
       "      <td>1.097064</td>\n",
       "      <td>-2.073335</td>\n",
       "      <td>1.269934</td>\n",
       "      <td>0.984375</td>\n",
       "      <td>1.568466</td>\n",
       "      <td>3.283515</td>\n",
       "      <td>2.652874</td>\n",
       "      <td>2.532475</td>\n",
       "      <td>2.217515</td>\n",
       "      <td>2.255747</td>\n",
       "      <td>...</td>\n",
       "      <td>-1.359293</td>\n",
       "      <td>2.303601</td>\n",
       "      <td>2.001237</td>\n",
       "      <td>1.307686</td>\n",
       "      <td>2.616665</td>\n",
       "      <td>2.109526</td>\n",
       "      <td>2.296076</td>\n",
       "      <td>2.750622</td>\n",
       "      <td>1.937015</td>\n",
       "      <td>1</td>\n",
       "    </tr>\n",
       "    <tr>\n",
       "      <th>1</th>\n",
       "      <td>1.829821</td>\n",
       "      <td>-0.353632</td>\n",
       "      <td>1.685955</td>\n",
       "      <td>1.908708</td>\n",
       "      <td>-0.826962</td>\n",
       "      <td>-0.487072</td>\n",
       "      <td>-0.023846</td>\n",
       "      <td>0.548144</td>\n",
       "      <td>0.001392</td>\n",
       "      <td>-0.868652</td>\n",
       "      <td>...</td>\n",
       "      <td>-0.369203</td>\n",
       "      <td>1.535126</td>\n",
       "      <td>1.890489</td>\n",
       "      <td>-0.375612</td>\n",
       "      <td>-0.430444</td>\n",
       "      <td>-0.146749</td>\n",
       "      <td>1.087084</td>\n",
       "      <td>-0.243890</td>\n",
       "      <td>0.281190</td>\n",
       "      <td>1</td>\n",
       "    </tr>\n",
       "    <tr>\n",
       "      <th>2</th>\n",
       "      <td>1.579888</td>\n",
       "      <td>0.456187</td>\n",
       "      <td>1.566503</td>\n",
       "      <td>1.558884</td>\n",
       "      <td>0.942210</td>\n",
       "      <td>1.052926</td>\n",
       "      <td>1.363478</td>\n",
       "      <td>2.037231</td>\n",
       "      <td>0.939685</td>\n",
       "      <td>-0.398008</td>\n",
       "      <td>...</td>\n",
       "      <td>-0.023974</td>\n",
       "      <td>1.347475</td>\n",
       "      <td>1.456285</td>\n",
       "      <td>0.527407</td>\n",
       "      <td>1.082932</td>\n",
       "      <td>0.854974</td>\n",
       "      <td>1.955000</td>\n",
       "      <td>1.152255</td>\n",
       "      <td>0.201391</td>\n",
       "      <td>1</td>\n",
       "    </tr>\n",
       "    <tr>\n",
       "      <th>3</th>\n",
       "      <td>-0.768909</td>\n",
       "      <td>0.253732</td>\n",
       "      <td>-0.592687</td>\n",
       "      <td>-0.764464</td>\n",
       "      <td>3.283553</td>\n",
       "      <td>3.402909</td>\n",
       "      <td>1.915897</td>\n",
       "      <td>1.451707</td>\n",
       "      <td>2.867383</td>\n",
       "      <td>4.910919</td>\n",
       "      <td>...</td>\n",
       "      <td>0.133984</td>\n",
       "      <td>-0.249939</td>\n",
       "      <td>-0.550021</td>\n",
       "      <td>3.394275</td>\n",
       "      <td>3.893397</td>\n",
       "      <td>1.989588</td>\n",
       "      <td>2.175786</td>\n",
       "      <td>6.046041</td>\n",
       "      <td>4.935010</td>\n",
       "      <td>1</td>\n",
       "    </tr>\n",
       "    <tr>\n",
       "      <th>4</th>\n",
       "      <td>1.750297</td>\n",
       "      <td>-1.151816</td>\n",
       "      <td>1.776573</td>\n",
       "      <td>1.826229</td>\n",
       "      <td>0.280372</td>\n",
       "      <td>0.539340</td>\n",
       "      <td>1.371011</td>\n",
       "      <td>1.428493</td>\n",
       "      <td>-0.009560</td>\n",
       "      <td>-0.562450</td>\n",
       "      <td>...</td>\n",
       "      <td>-1.466770</td>\n",
       "      <td>1.338539</td>\n",
       "      <td>1.220724</td>\n",
       "      <td>0.220556</td>\n",
       "      <td>-0.313395</td>\n",
       "      <td>0.613179</td>\n",
       "      <td>0.729259</td>\n",
       "      <td>-0.868353</td>\n",
       "      <td>-0.397100</td>\n",
       "      <td>1</td>\n",
       "    </tr>\n",
       "    <tr>\n",
       "      <th>...</th>\n",
       "      <td>...</td>\n",
       "      <td>...</td>\n",
       "      <td>...</td>\n",
       "      <td>...</td>\n",
       "      <td>...</td>\n",
       "      <td>...</td>\n",
       "      <td>...</td>\n",
       "      <td>...</td>\n",
       "      <td>...</td>\n",
       "      <td>...</td>\n",
       "      <td>...</td>\n",
       "      <td>...</td>\n",
       "      <td>...</td>\n",
       "      <td>...</td>\n",
       "      <td>...</td>\n",
       "      <td>...</td>\n",
       "      <td>...</td>\n",
       "      <td>...</td>\n",
       "      <td>...</td>\n",
       "      <td>...</td>\n",
       "      <td>...</td>\n",
       "    </tr>\n",
       "    <tr>\n",
       "      <th>564</th>\n",
       "      <td>2.110995</td>\n",
       "      <td>0.721473</td>\n",
       "      <td>2.060786</td>\n",
       "      <td>2.343856</td>\n",
       "      <td>1.041842</td>\n",
       "      <td>0.219060</td>\n",
       "      <td>1.947285</td>\n",
       "      <td>2.320965</td>\n",
       "      <td>-0.312589</td>\n",
       "      <td>-0.931027</td>\n",
       "      <td>...</td>\n",
       "      <td>0.117700</td>\n",
       "      <td>1.752563</td>\n",
       "      <td>2.015301</td>\n",
       "      <td>0.378365</td>\n",
       "      <td>-0.273318</td>\n",
       "      <td>0.664512</td>\n",
       "      <td>1.629151</td>\n",
       "      <td>-1.360158</td>\n",
       "      <td>-0.709091</td>\n",
       "      <td>1</td>\n",
       "    </tr>\n",
       "    <tr>\n",
       "      <th>565</th>\n",
       "      <td>1.704854</td>\n",
       "      <td>2.085134</td>\n",
       "      <td>1.615931</td>\n",
       "      <td>1.723842</td>\n",
       "      <td>0.102458</td>\n",
       "      <td>-0.017833</td>\n",
       "      <td>0.693043</td>\n",
       "      <td>1.263669</td>\n",
       "      <td>-0.217664</td>\n",
       "      <td>-1.058611</td>\n",
       "      <td>...</td>\n",
       "      <td>2.047399</td>\n",
       "      <td>1.421940</td>\n",
       "      <td>1.494959</td>\n",
       "      <td>-0.691230</td>\n",
       "      <td>-0.394820</td>\n",
       "      <td>0.236573</td>\n",
       "      <td>0.733827</td>\n",
       "      <td>-0.531855</td>\n",
       "      <td>-0.973978</td>\n",
       "      <td>1</td>\n",
       "    </tr>\n",
       "    <tr>\n",
       "      <th>566</th>\n",
       "      <td>0.702284</td>\n",
       "      <td>2.045574</td>\n",
       "      <td>0.672676</td>\n",
       "      <td>0.577953</td>\n",
       "      <td>-0.840484</td>\n",
       "      <td>-0.038680</td>\n",
       "      <td>0.046588</td>\n",
       "      <td>0.105777</td>\n",
       "      <td>-0.809117</td>\n",
       "      <td>-0.895587</td>\n",
       "      <td>...</td>\n",
       "      <td>1.374854</td>\n",
       "      <td>0.579001</td>\n",
       "      <td>0.427906</td>\n",
       "      <td>-0.809587</td>\n",
       "      <td>0.350735</td>\n",
       "      <td>0.326767</td>\n",
       "      <td>0.414069</td>\n",
       "      <td>-1.104549</td>\n",
       "      <td>-0.318409</td>\n",
       "      <td>1</td>\n",
       "    </tr>\n",
       "    <tr>\n",
       "      <th>567</th>\n",
       "      <td>1.838341</td>\n",
       "      <td>2.336457</td>\n",
       "      <td>1.982524</td>\n",
       "      <td>1.735218</td>\n",
       "      <td>1.525767</td>\n",
       "      <td>3.272144</td>\n",
       "      <td>3.296944</td>\n",
       "      <td>2.658866</td>\n",
       "      <td>2.137194</td>\n",
       "      <td>1.043695</td>\n",
       "      <td>...</td>\n",
       "      <td>2.237926</td>\n",
       "      <td>2.303601</td>\n",
       "      <td>1.653171</td>\n",
       "      <td>1.430427</td>\n",
       "      <td>3.904848</td>\n",
       "      <td>3.197605</td>\n",
       "      <td>2.289985</td>\n",
       "      <td>1.919083</td>\n",
       "      <td>2.219635</td>\n",
       "      <td>1</td>\n",
       "    </tr>\n",
       "    <tr>\n",
       "      <th>568</th>\n",
       "      <td>-1.808401</td>\n",
       "      <td>1.221792</td>\n",
       "      <td>-1.814389</td>\n",
       "      <td>-1.347789</td>\n",
       "      <td>-3.112085</td>\n",
       "      <td>-1.150752</td>\n",
       "      <td>-1.114873</td>\n",
       "      <td>-1.261820</td>\n",
       "      <td>-0.820070</td>\n",
       "      <td>-0.561032</td>\n",
       "      <td>...</td>\n",
       "      <td>0.764190</td>\n",
       "      <td>-1.432735</td>\n",
       "      <td>-1.075813</td>\n",
       "      <td>-1.859019</td>\n",
       "      <td>-1.207552</td>\n",
       "      <td>-1.305831</td>\n",
       "      <td>-1.745063</td>\n",
       "      <td>-0.048138</td>\n",
       "      <td>-0.751207</td>\n",
       "      <td>0</td>\n",
       "    </tr>\n",
       "  </tbody>\n",
       "</table>\n",
       "<p>569 rows × 31 columns</p>\n",
       "</div>"
      ],
      "text/plain": [
       "      radius1  texture1  perimeter1     area1  smoothness1  compactness1  \\\n",
       "0    1.097064 -2.073335    1.269934  0.984375     1.568466      3.283515   \n",
       "1    1.829821 -0.353632    1.685955  1.908708    -0.826962     -0.487072   \n",
       "2    1.579888  0.456187    1.566503  1.558884     0.942210      1.052926   \n",
       "3   -0.768909  0.253732   -0.592687 -0.764464     3.283553      3.402909   \n",
       "4    1.750297 -1.151816    1.776573  1.826229     0.280372      0.539340   \n",
       "..        ...       ...         ...       ...          ...           ...   \n",
       "564  2.110995  0.721473    2.060786  2.343856     1.041842      0.219060   \n",
       "565  1.704854  2.085134    1.615931  1.723842     0.102458     -0.017833   \n",
       "566  0.702284  2.045574    0.672676  0.577953    -0.840484     -0.038680   \n",
       "567  1.838341  2.336457    1.982524  1.735218     1.525767      3.272144   \n",
       "568 -1.808401  1.221792   -1.814389 -1.347789    -3.112085     -1.150752   \n",
       "\n",
       "     concavity1  concave_points1  symmetry1  fractal_dimension1  ...  \\\n",
       "0      2.652874         2.532475   2.217515            2.255747  ...   \n",
       "1     -0.023846         0.548144   0.001392           -0.868652  ...   \n",
       "2      1.363478         2.037231   0.939685           -0.398008  ...   \n",
       "3      1.915897         1.451707   2.867383            4.910919  ...   \n",
       "4      1.371011         1.428493  -0.009560           -0.562450  ...   \n",
       "..          ...              ...        ...                 ...  ...   \n",
       "564    1.947285         2.320965  -0.312589           -0.931027  ...   \n",
       "565    0.693043         1.263669  -0.217664           -1.058611  ...   \n",
       "566    0.046588         0.105777  -0.809117           -0.895587  ...   \n",
       "567    3.296944         2.658866   2.137194            1.043695  ...   \n",
       "568   -1.114873        -1.261820  -0.820070           -0.561032  ...   \n",
       "\n",
       "     texture3  perimeter3     area3  smoothness3  compactness3  concavity3  \\\n",
       "0   -1.359293    2.303601  2.001237     1.307686      2.616665    2.109526   \n",
       "1   -0.369203    1.535126  1.890489    -0.375612     -0.430444   -0.146749   \n",
       "2   -0.023974    1.347475  1.456285     0.527407      1.082932    0.854974   \n",
       "3    0.133984   -0.249939 -0.550021     3.394275      3.893397    1.989588   \n",
       "4   -1.466770    1.338539  1.220724     0.220556     -0.313395    0.613179   \n",
       "..        ...         ...       ...          ...           ...         ...   \n",
       "564  0.117700    1.752563  2.015301     0.378365     -0.273318    0.664512   \n",
       "565  2.047399    1.421940  1.494959    -0.691230     -0.394820    0.236573   \n",
       "566  1.374854    0.579001  0.427906    -0.809587      0.350735    0.326767   \n",
       "567  2.237926    2.303601  1.653171     1.430427      3.904848    3.197605   \n",
       "568  0.764190   -1.432735 -1.075813    -1.859019     -1.207552   -1.305831   \n",
       "\n",
       "     concave_points3  symmetry3  fractal_dimension3  Diagnosis  \n",
       "0           2.296076   2.750622            1.937015          1  \n",
       "1           1.087084  -0.243890            0.281190          1  \n",
       "2           1.955000   1.152255            0.201391          1  \n",
       "3           2.175786   6.046041            4.935010          1  \n",
       "4           0.729259  -0.868353           -0.397100          1  \n",
       "..               ...        ...                 ...        ...  \n",
       "564         1.629151  -1.360158           -0.709091          1  \n",
       "565         0.733827  -0.531855           -0.973978          1  \n",
       "566         0.414069  -1.104549           -0.318409          1  \n",
       "567         2.289985   1.919083            2.219635          1  \n",
       "568        -1.745063  -0.048138           -0.751207          0  \n",
       "\n",
       "[569 rows x 31 columns]"
      ]
     },
     "metadata": {},
     "output_type": "display_data"
    }
   ],
   "source": [
    "scaler = StandardScaler()\n",
    "std_full_df = full_df.copy()\n",
    "std_full_df[feats] = scaler.fit_transform(full_df[feats]) # feature standardization for comparable parallel graphing\n",
    "display(std_full_df)"
   ]
  },
  {
   "cell_type": "code",
   "execution_count": 9,
   "metadata": {},
   "outputs": [
    {
     "data": {
      "image/png": "[encoded data removed]",
      "text/plain": [
       "<Figure size 1200x1000 with 2 Axes>"
      ]
     },
     "metadata": {},
     "output_type": "display_data"
    }
   ],
   "source": [
    "correlation_matrix = std_full_df[feat_means].corr()\n",
    "\n",
    "plt.figure(figsize=(12, 10))\n",
    "sns.heatmap(correlation_matrix, annot=True, cmap='seismic', linewidths=0.5, center=0)\n",
    "plt.title('Correlation Heatmap of Tumor Features & the Diagnosis')\n",
    "plt.show()"
   ]
  },
  {
   "cell_type": "markdown",
   "metadata": {},
   "source": [
    "The deeper the red, the higher the correlation. If the correlation is high between some features, then some of them may be redundant."
   ]
  },
  {
   "cell_type": "code",
   "execution_count": 10,
   "metadata": {},
   "outputs": [
    {
     "name": "stdout",
     "output_type": "stream",
     "text": [
      "4 highly correlated pairs: {('concave_points1', 'concavity1'), ('area1', 'perimeter1'), ('perimeter1', 'radius1'), ('area1', 'radius1')}\n"
     ]
    },
    {
     "data": {
      "image/png": "[encoded data removed]",
      "text/plain": [
       "<Figure size 2000x500 with 4 Axes>"
      ]
     },
     "metadata": {},
     "output_type": "display_data"
    }
   ],
   "source": [
    "highly_correlated_pairs = set()\n",
    "for feature1 in correlation_matrix.columns:\n",
    "    for feature2 in correlation_matrix.columns:\n",
    "        if feature1 < feature2 and correlation_matrix.loc[feature1, feature2] > 0.9:\n",
    "            highly_correlated_pairs.add((feature1, feature2))\n",
    "\n",
    "print(len(highly_correlated_pairs), \"highly correlated pairs:\", highly_correlated_pairs)\n",
    "\n",
    "fig, axes = plt.subplots(1, len(highly_correlated_pairs), figsize=(20,5))\n",
    "\n",
    "for i, (feature1, feature2) in enumerate(highly_correlated_pairs):\n",
    "    sns.scatterplot(data=full_df, x=feature1, y=feature2, ax=axes[i], hue=\"Diagnosis\", legend=\"brief\") # Seaborn subplots of scatter plots\n",
    "    axes[i].set_title(f'{feature1} vs {feature2}')\n",
    "    axes[i].set_xlabel(feature1)\n",
    "    axes[i].set_ylabel(feature2)\n",
    "\n",
    "plt.tight_layout()\n",
    "plt.show()"
   ]
  },
  {
   "cell_type": "markdown",
   "metadata": {},
   "source": [
    "Perimeter and radius are obviously linearly correlated $(d=2r)$, while area is quadratically related to perimeter and radius. On the other hand, concave_points and concavity is not as neatly connected, though the high correlation between them $(0.92)$."
   ]
  },
  {
   "cell_type": "code",
   "execution_count": 11,
   "metadata": {},
   "outputs": [
    {
     "data": {
      "image/png": "[encoded data removed]",
      "text/plain": [
       "<Figure size 1000x600 with 1 Axes>"
      ]
     },
     "metadata": {},
     "output_type": "display_data"
    }
   ],
   "source": [
    "corr_graph_data = full_df.corr()[\"Diagnosis\"].sort_values(ascending=False)\n",
    "\n",
    "plt.figure(figsize=(10, 6))\n",
    "sns.barplot(x=corr_graph_data.values, y=corr_graph_data.index, palette='icefire', hue=corr_graph_data.index) # showing the relative correlations between features with the target\n",
    "\n",
    "plt.xlabel('Correlation with Diagnosis')\n",
    "plt.ylabel('Feature names')\n",
    "plt.title('Feature Correlation with Diagnosis')\n",
    "\n",
    "plt.show()"
   ]
  },
  {
   "cell_type": "code",
   "execution_count": 12,
   "metadata": {},
   "outputs": [
    {
     "data": {
      "application/vnd.plotly.v1+json": {
       "config": {
        "plotlyServerURL": "https://plot.ly"
       },
       "data": [
        {
         "hovertemplate": "Diagnosis=%{marker.color}<br>radius1=%{x}<br>radius2=%{y}<br>radius3=%{z}<extra></extra>",
         "legendgroup": "1",
         "marker": {
          "color": [
           1,
           1,
           1,
           1,
           1,
           1,
           1,
           1,
           1,
           1,
           1,
           1,
           1,
           1,
           1,
           1,
           1,
           1,
           1,
           1,
           1,
           1,
           1,
           1,
           1,
           1,
           1,
           1,
           1,
           1,
           1,
           1,
           1,
           1,
           1,
           1,
           1,
           1,
           1,
           1,
           1,
           1,
           1,
           1,
           1,
           1,
           1,
           1,
           1,
           1,
           1,
           1,
           1,
           1,
           1,
           1,
           1,
           1,
           1,
           1,
           1,
           1,
           1,
           1,
           1,
           1,
           1,
           1,
           1,
           1,
           1,
           1,
           1,
           1,
           1,
           1,
           1,
           1,
           1,
           1,
           1,
           1,
           1,
           1,
           1,
           1,
           1,
           1,
           1,
           1,
           1,
           1,
           1,
           1,
           1,
           1,
           1,
           1,
           1,
           1,
           1,
           1,
           1,
           1,
           1,
           1,
           1,
           1,
           1,
           1,
           1,
           1,
           1,
           1,
           1,
           1,
           1,
           1,
           1,
           1,
           1,
           1,
           1,
           1,
           1,
           1,
           1,
           1,
           1,
           1,
           1,
           1,
           1,
           1,
           1,
           1,
           1,
           1,
           1,
           1,
           1,
           1,
           1,
           1,
           1,
           1,
           1,
           1,
           1,
           1,
           1,
           1,
           1,
           1,
           1,
           1,
           1,
           1,
           1,
           1,
           1,
           1,
           1,
           1,
           1,
           1,
           1,
           1,
           1,
           1,
           1,
           1,
           1,
           1,
           1,
           1,
           1,
           1,
           1,
           1,
           1,
           1,
           1,
           1,
           1,
           1,
           1,
           1,
           1,
           1,
           1,
           1,
           1,
           1,
           1,
           1,
           1,
           1,
           1,
           1,
           1,
           1,
           1,
           1,
           1,
           1,
           1,
           1,
           1,
           1,
           1,
           1
          ],
          "coloraxis": "coloraxis",
          "symbol": "circle"
         },
         "mode": "markers",
         "name": "1",
         "scene": "scene",
         "showlegend": true,
         "type": "scatter3d",
         "x": [
          17.99,
          20.57,
          19.69,
          11.42,
          20.29,
          12.45,
          18.25,
          13.71,
          13,
          12.46,
          16.02,
          15.78,
          19.17,
          15.85,
          13.73,
          14.54,
          14.68,
          16.13,
          19.81,
          15.34,
          21.16,
          16.65,
          17.14,
          14.58,
          18.61,
          15.3,
          17.57,
          18.63,
          11.84,
          17.02,
          19.27,
          16.13,
          16.74,
          14.25,
          14.99,
          13.48,
          13.44,
          10.95,
          19.07,
          13.28,
          13.17,
          18.65,
          13.17,
          18.22,
          15.1,
          19.21,
          14.71,
          14.25,
          12.68,
          14.78,
          18.94,
          17.2,
          13.8,
          16.07,
          18.05,
          20.18,
          25.22,
          19.1,
          18.46,
          14.48,
          19.02,
          15.37,
          15.06,
          20.26,
          14.42,
          13.61,
          13.11,
          22.27,
          14.87,
          15.78,
          17.95,
          18.66,
          24.25,
          13.61,
          19,
          19.79,
          15.46,
          16.16,
          18.45,
          12.77,
          14.95,
          16.11,
          11.8,
          17.68,
          19.19,
          19.59,
          23.27,
          16.78,
          17.47,
          13.43,
          15.46,
          16.46,
          27.22,
          21.09,
          15.7,
          15.28,
          18.31,
          14.22,
          12.34,
          14.86,
          13.77,
          18.08,
          19.18,
          14.45,
          17.54,
          23.29,
          13.81,
          15.12,
          17.01,
          20.58,
          28.11,
          17.42,
          14.19,
          13.86,
          19.8,
          19.53,
          15.75,
          12.83,
          17.05,
          20.51,
          23.21,
          20.48,
          17.46,
          19.4,
          20.94,
          19.73,
          17.3,
          19.45,
          13.96,
          19.55,
          15.32,
          15.66,
          15.53,
          20.31,
          17.35,
          17.29,
          15.61,
          17.19,
          20.73,
          21.75,
          17.93,
          18.81,
          19.16,
          19.4,
          16.24,
          11.76,
          19.53,
          20.09,
          18.22,
          20.16,
          20.34,
          16.27,
          16.26,
          16.03,
          17.06,
          18.77,
          23.51,
          19.68,
          15.75,
          25.73,
          15.08,
          20.44,
          20.2,
          21.71,
          22.01,
          16.35,
          21.37,
          20.64,
          11.08,
          14.6,
          19.55,
          15.49,
          21.61,
          17.91,
          17.99,
          15.13,
          15.5,
          14.9,
          20.18,
          18.82,
          13.98,
          17.27,
          18.03,
          17.75,
          21.1,
          19.59,
          17.08,
          27.42,
          17.6,
          16.25,
          19.44,
          16.69,
          18.01,
          18.49,
          20.59,
          13.82,
          23.09,
          15.46,
          13.4,
          15.05,
          18.31,
          19.89,
          24.63,
          20.47,
          20.55,
          14.27,
          15.22,
          20.92,
          21.56,
          20.13,
          16.6,
          20.6
         ],
         "y": [
          1.095,
          0.5435,
          0.7456,
          0.4956,
          0.7572,
          0.3345,
          0.4467,
          0.5835,
          0.3063,
          0.2976,
          0.3795,
          0.5058,
          0.9555,
          0.4033,
          0.2121,
          0.37,
          0.4727,
          0.5692,
          0.7582,
          0.4388,
          0.6917,
          0.8068,
          1.046,
          0.2545,
          0.8529,
          0.439,
          0.6003,
          0.8307,
          0.4825,
          0.6009,
          0.5558,
          0.334,
          0.4615,
          0.286,
          1.214,
          0.213,
          0.2385,
          0.2366,
          0.9811,
          0.3704,
          0.1938,
          0.6289,
          0.2871,
          0.8337,
          0.3105,
          0.7275,
          0.4226,
          0.7036,
          0.4255,
          0.3577,
          0.7888,
          0.5907,
          0.2787,
          0.7474,
          0.9806,
          0.9317,
          0.8973,
          0.519,
          0.6997,
          0.4204,
          0.5495,
          0.3129,
          0.4768,
          0.7576,
          0.2895,
          0.4565,
          0.3908,
          1.215,
          0.4266,
          0.552,
          0.5506,
          0.7128,
          1.509,
          0.231,
          0.6896,
          0.4953,
          0.4743,
          0.4332,
          0.5959,
          0.2367,
          1.296,
          0.7049,
          0.3197,
          0.8113,
          1,
          0.7364,
          0.6642,
          0.599,
          1.088,
          0.4697,
          0.4209,
          0.3037,
          0.8361,
          0.6298,
          0.3699,
          0.2054,
          0.2577,
          0.286,
          0.4053,
          0.2796,
          0.6191,
          0.6362,
          0.4357,
          0.2092,
          0.3971,
          0.5539,
          0.5648,
          0.2711,
          0.5858,
          0.8601,
          2.873,
          0.5296,
          0.4207,
          0.2563,
          0.9553,
          0.7392,
          0.3473,
          0.3061,
          0.2959,
          0.524,
          1.058,
          0.6874,
          0.5366,
          0.5243,
          1.004,
          0.7661,
          0.3093,
          0.5959,
          0.425,
          0.8426,
          0.6592,
          1.292,
          0.2419,
          0.3977,
          0.4007,
          0.8348,
          0.2298,
          0.4203,
          1.172,
          1.167,
          0.4212,
          0.3283,
          0.6361,
          0.4709,
          0.2873,
          0.645,
          1.111,
          1.072,
          0.4041,
          0.5925,
          0.5702,
          0.4375,
          0.5706,
          0.3371,
          0.8161,
          0.6422,
          1.009,
          0.6226,
          0.5204,
          0.9948,
          0.6534,
          0.5781,
          0.9761,
          1.207,
          1.008,
          0.4312,
          0.3414,
          0.6137,
          0.2114,
          0.4157,
          0.6107,
          0.647,
          0.6242,
          0.403,
          0.4537,
          0.4681,
          1.37,
          0.253,
          0.4331,
          0.8191,
          0.2208,
          0.51,
          0.2986,
          0.3897,
          0.6643,
          0.4674,
          0.9291,
          2.547,
          0.9289,
          0.3147,
          0.5659,
          0.2473,
          0.7548,
          0.7923,
          0.5904,
          0.4751,
          1.291,
          0.3331,
          0.3906,
          0.386,
          0.5449,
          0.5079,
          0.9915,
          0.8336,
          0.6986,
          0.2027,
          0.2602,
          0.9622,
          1.176,
          0.7655,
          0.4564,
          0.726
         ],
         "z": [
          25.38,
          24.99,
          23.57,
          14.91,
          22.54,
          15.47,
          22.88,
          17.06,
          15.49,
          15.09,
          19.19,
          20.42,
          20.96,
          16.84,
          15.03,
          17.46,
          19.07,
          20.96,
          27.32,
          18.07,
          29.17,
          26.46,
          22.25,
          17.62,
          21.31,
          20.27,
          20.01,
          23.15,
          16.82,
          20.88,
          24.15,
          20.21,
          20.01,
          15.89,
          14.99,
          15.53,
          15.93,
          12.84,
          24.09,
          17.38,
          16.23,
          22.82,
          15.67,
          20.6,
          18.1,
          26.14,
          17.87,
          17.67,
          17.09,
          17.31,
          24.86,
          23.32,
          16.57,
          19.77,
          22.39,
          23.37,
          30,
          20.33,
          22.93,
          16.21,
          24.56,
          16.43,
          18.23,
          24.22,
          16.33,
          16.99,
          16.31,
          28.4,
          18.81,
          20.19,
          20.58,
          22.25,
          26.02,
          16.89,
          22.32,
          22.63,
          19.26,
          19.47,
          22.52,
          14.49,
          18.55,
          19.92,
          13.74,
          20.47,
          22.03,
          26.73,
          28.01,
          20.05,
          23.14,
          17.98,
          18.79,
          17.79,
          33.12,
          26.68,
          20.11,
          17.8,
          21.31,
          15.74,
          15.65,
          16.08,
          16.39,
          19.76,
          23.36,
          18.33,
          20.42,
          25.12,
          19.2,
          17.77,
          19.8,
          23.24,
          28.11,
          18.07,
          16.86,
          15.75,
          25.73,
          27.9,
          19.56,
          15.2,
          19.59,
          24.47,
          31.01,
          24.22,
          22.51,
          21.65,
          25.58,
          25.28,
          19.85,
          25.7,
          16.39,
          25.05,
          17.73,
          19.85,
          18.49,
          24.33,
          19.85,
          20.39,
          17.91,
          21.58,
          32.49,
          28.19,
          20.92,
          19.96,
          23.72,
          23.79,
          18.55,
          13.36,
          25.93,
          23.68,
          21.84,
          23.06,
          25.3,
          19.28,
          17.73,
          18.76,
          20.99,
          24.54,
          30.67,
          22.75,
          17.36,
          33.13,
          18.51,
          24.31,
          24.19,
          30.75,
          27.66,
          19.38,
          22.69,
          25.37,
          13.24,
          15.79,
          20.82,
          21.2,
          26.23,
          20.8,
          21.08,
          17.26,
          23.17,
          16.35,
          22.03,
          22.66,
          17.04,
          20.38,
          20.38,
          21.53,
          25.68,
          21.44,
          22.96,
          36.04,
          21.57,
          17.39,
          23.96,
          19.18,
          21.53,
          22.75,
          23.86,
          16.01,
          30.79,
          17.11,
          16.41,
          17.58,
          21.86,
          23.73,
          29.92,
          23.23,
          24.3,
          15.29,
          17.52,
          24.29,
          25.45,
          23.69,
          18.98,
          25.74
         ]
        },
        {
         "hovertemplate": "Diagnosis=%{marker.color}<br>radius1=%{x}<br>radius2=%{y}<br>radius3=%{z}<extra></extra>",
         "legendgroup": "0",
         "marker": {
          "color": [
           0,
           0,
           0,
           0,
           0,
           0,
           0,
           0,
           0,
           0,
           0,
           0,
           0,
           0,
           0,
           0,
           0,
           0,
           0,
           0,
           0,
           0,
           0,
           0,
           0,
           0,
           0,
           0,
           0,
           0,
           0,
           0,
           0,
           0,
           0,
           0,
           0,
           0,
           0,
           0,
           0,
           0,
           0,
           0,
           0,
           0,
           0,
           0,
           0,
           0,
           0,
           0,
           0,
           0,
           0,
           0,
           0,
           0,
           0,
           0,
           0,
           0,
           0,
           0,
           0,
           0,
           0,
           0,
           0,
           0,
           0,
           0,
           0,
           0,
           0,
           0,
           0,
           0,
           0,
           0,
           0,
           0,
           0,
           0,
           0,
           0,
           0,
           0,
           0,
           0,
           0,
           0,
           0,
           0,
           0,
           0,
           0,
           0,
           0,
           0,
           0,
           0,
           0,
           0,
           0,
           0,
           0,
           0,
           0,
           0,
           0,
           0,
           0,
           0,
           0,
           0,
           0,
           0,
           0,
           0,
           0,
           0,
           0,
           0,
           0,
           0,
           0,
           0,
           0,
           0,
           0,
           0,
           0,
           0,
           0,
           0,
           0,
           0,
           0,
           0,
           0,
           0,
           0,
           0,
           0,
           0,
           0,
           0,
           0,
           0,
           0,
           0,
           0,
           0,
           0,
           0,
           0,
           0,
           0,
           0,
           0,
           0,
           0,
           0,
           0,
           0,
           0,
           0,
           0,
           0,
           0,
           0,
           0,
           0,
           0,
           0,
           0,
           0,
           0,
           0,
           0,
           0,
           0,
           0,
           0,
           0,
           0,
           0,
           0,
           0,
           0,
           0,
           0,
           0,
           0,
           0,
           0,
           0,
           0,
           0,
           0,
           0,
           0,
           0,
           0,
           0,
           0,
           0,
           0,
           0,
           0,
           0,
           0,
           0,
           0,
           0,
           0,
           0,
           0,
           0,
           0,
           0,
           0,
           0,
           0,
           0,
           0,
           0,
           0,
           0,
           0,
           0,
           0,
           0,
           0,
           0,
           0,
           0,
           0,
           0,
           0,
           0,
           0,
           0,
           0,
           0,
           0,
           0,
           0,
           0,
           0,
           0,
           0,
           0,
           0,
           0,
           0,
           0,
           0,
           0,
           0,
           0,
           0,
           0,
           0,
           0,
           0,
           0,
           0,
           0,
           0,
           0,
           0,
           0,
           0,
           0,
           0,
           0,
           0,
           0,
           0,
           0,
           0,
           0,
           0,
           0,
           0,
           0,
           0,
           0,
           0,
           0,
           0,
           0,
           0,
           0,
           0,
           0,
           0,
           0,
           0,
           0,
           0,
           0,
           0,
           0,
           0,
           0,
           0,
           0,
           0,
           0,
           0,
           0,
           0,
           0,
           0,
           0,
           0,
           0,
           0,
           0,
           0,
           0,
           0,
           0,
           0,
           0,
           0,
           0,
           0,
           0,
           0,
           0,
           0,
           0,
           0,
           0,
           0,
           0,
           0,
           0,
           0,
           0,
           0,
           0,
           0,
           0,
           0,
           0,
           0,
           0,
           0,
           0,
           0,
           0,
           0
          ],
          "coloraxis": "coloraxis",
          "symbol": "diamond"
         },
         "mode": "markers",
         "name": "0",
         "scene": "scene",
         "showlegend": true,
         "type": "scatter3d",
         "x": [
          13.54,
          13.08,
          9.504,
          13.03,
          8.196,
          12.05,
          13.49,
          11.76,
          13.64,
          11.94,
          11.52,
          13.05,
          8.618,
          10.17,
          8.598,
          9.173,
          9.465,
          11.31,
          9.029,
          12.78,
          8.888,
          12.31,
          13.53,
          12.86,
          11.45,
          13.34,
          12,
          12.36,
          14.64,
          14.62,
          13.27,
          13.45,
          12.18,
          9.787,
          11.6,
          6.981,
          12.18,
          9.876,
          10.49,
          11.64,
          12.36,
          11.34,
          9.777,
          12.63,
          14.26,
          10.51,
          8.726,
          11.93,
          8.95,
          11.41,
          14.5,
          13.37,
          13.85,
          15.1,
          12.19,
          15.71,
          11.71,
          11.43,
          11.28,
          9.738,
          11.43,
          12.9,
          10.75,
          11.9,
          14.95,
          14.44,
          13.74,
          13,
          8.219,
          9.731,
          11.15,
          13.15,
          12.25,
          16.84,
          12.06,
          10.9,
          11.75,
          12.34,
          14.97,
          10.8,
          14.97,
          12.32,
          11.08,
          10.66,
          8.671,
          9.904,
          13.01,
          12.81,
          11.41,
          10.08,
          11.71,
          11.81,
          12.3,
          12.77,
          9.72,
          12.91,
          12.23,
          12.47,
          9.876,
          13.11,
          15.27,
          11.84,
          11.89,
          10.2,
          13.65,
          13.56,
          10.18,
          13.27,
          14.34,
          10.44,
          15,
          12.62,
          11.32,
          11.22,
          9.567,
          14.03,
          14.22,
          13.64,
          12.42,
          11.3,
          13.75,
          10.48,
          13.2,
          12.89,
          10.65,
          11.52,
          11.5,
          10.6,
          13.59,
          12.87,
          10.71,
          14.29,
          11.29,
          9.742,
          11.89,
          11.33,
          13.59,
          13.85,
          11.74,
          12.89,
          12.58,
          11.94,
          12.89,
          11.26,
          11.37,
          14.41,
          14.96,
          12.95,
          11.85,
          12.72,
          13.77,
          10.91,
          14.26,
          10.51,
          12.46,
          10.49,
          11.46,
          11.6,
          13.2,
          9,
          13.5,
          13.05,
          11.7,
          14.61,
          12.76,
          11.54,
          8.597,
          12.49,
          12.18,
          9.042,
          12.43,
          10.25,
          12.86,
          12.2,
          12.67,
          14.11,
          12.03,
          12.98,
          11.22,
          11.25,
          12.3,
          12.99,
          10.05,
          14.42,
          9.606,
          11.06,
          11.71,
          10.26,
          12.06,
          14.76,
          11.47,
          11.95,
          11.66,
          11.14,
          12.56,
          13.05,
          13.87,
          8.878,
          9.436,
          12.54,
          13.3,
          12.76,
          16.5,
          13.4,
          12.21,
          15.19,
          13.69,
          16.17,
          10.57,
          13.46,
          13.66,
          11.27,
          11.04,
          12.05,
          12.39,
          13.28,
          12.21,
          13.88,
          11.27,
          10.26,
          8.734,
          12.1,
          14.06,
          13.51,
          12.8,
          11.06,
          11.8,
          11.93,
          12.96,
          12.94,
          12.34,
          10.94,
          16.14,
          12.85,
          12.27,
          11.36,
          11.04,
          9.397,
          14.99,
          11.89,
          9.405,
          12.7,
          11.16,
          11.57,
          14.69,
          11.61,
          13.66,
          9.742,
          10.03,
          10.48,
          10.8,
          11.13,
          12.72,
          12.4,
          14.86,
          12.87,
          14.04,
          13.85,
          14.02,
          10.97,
          13.78,
          10.57,
          11.99,
          14.8,
          14.53,
          11.87,
          12,
          14.53,
          12.62,
          13.38,
          11.63,
          13.21,
          13,
          9.755,
          14.4,
          11.6,
          13.17,
          13.24,
          13.14,
          9.668,
          11.62,
          9.667,
          12.04,
          14.92,
          12.27,
          10.88,
          12.83,
          14.2,
          13.9,
          11.49,
          12.16,
          13.9,
          13.47,
          13.7,
          15.73,
          12.45,
          14.64,
          11.68,
          12.25,
          17.85,
          12.46,
          13.16,
          14.87,
          12.65,
          12.47,
          15.04,
          12.54,
          9.268,
          9.676,
          12.22,
          11.06,
          16.3,
          11.74,
          14.81,
          14.58,
          11.34,
          12.88,
          12.75,
          9.295,
          11.26,
          13.71,
          9.847,
          8.571,
          13.46,
          12.34,
          13.94,
          12.07,
          11.75,
          11.67,
          13.68,
          10.96,
          11.69,
          7.729,
          7.691,
          11.54,
          14.47,
          14.74,
          13.21,
          13.87,
          13.62,
          10.32,
          10.26,
          9.683,
          10.82,
          10.86,
          11.13,
          12.77,
          9.333,
          12.88,
          10.29,
          10.16,
          9.423,
          14.59,
          11.51,
          14.05,
          11.2,
          7.76
         ],
         "y": [
          0.2699,
          0.1852,
          0.2773,
          0.1839,
          0.1563,
          0.2636,
          0.2338,
          0.4062,
          0.1872,
          0.2273,
          0.3249,
          0.404,
          0.1559,
          0.5158,
          0.3582,
          0.4098,
          0.2351,
          0.2727,
          0.3274,
          0.2368,
          0.5262,
          0.2505,
          0.4101,
          0.2655,
          0.3251,
          0.286,
          0.2271,
          0.2978,
          0.5115,
          0.3721,
          0.4057,
          0.295,
          0.3661,
          0.335,
          0.2315,
          0.2241,
          0.1924,
          0.1803,
          0.355,
          0.306,
          0.1199,
          0.2344,
          0.403,
          0.3424,
          0.3628,
          0.3336,
          0.1665,
          0.3118,
          0.3132,
          0.1408,
          0.2929,
          0.1639,
          0.2185,
          0.4309,
          0.2005,
          0.3117,
          0.4489,
          0.1759,
          0.3384,
          0.1988,
          0.2843,
          0.2143,
          0.2525,
          0.3962,
          0.422,
          0.2406,
          0.25,
          0.4202,
          0.1935,
          0.8245,
          0.2251,
          0.271,
          0.22,
          0.4789,
          0.1822,
          0.2818,
          0.5018,
          0.2949,
          0.184,
          0.1728,
          0.2713,
          0.236,
          0.2073,
          0.3309,
          0.2204,
          0.4311,
          0.1731,
          0.2889,
          0.3344,
          0.4245,
          0.2451,
          0.1859,
          0.2382,
          0.7311,
          0.3539,
          0.1942,
          0.3534,
          0.3961,
          0.2137,
          0.1931,
          0.2134,
          0.2222,
          0.2963,
          0.3567,
          0.2102,
          0.2569,
          0.2467,
          0.2927,
          0.522,
          0.1913,
          0.2318,
          0.2449,
          0.121,
          0.2239,
          0.2152,
          0.2589,
          0.3354,
          0.3242,
          0.1153,
          0.2428,
          0.4347,
          0.3719,
          0.163,
          0.2025,
          0.2497,
          0.2562,
          0.3927,
          0.4505,
          0.338,
          0.2345,
          0.3198,
          0.1302,
          0.1904,
          0.2684,
          0.6412,
          0.2375,
          0.258,
          0.2479,
          0.5619,
          0.2913,
          0.2719,
          0.2742,
          0.1532,
          0.4866,
          0.2656,
          0.8811,
          0.2877,
          0.2094,
          0.207,
          0.1807,
          0.2191,
          0.1753,
          0.23,
          0.2868,
          0.3642,
          0.1485,
          0.3278,
          0.2512,
          0.1903,
          0.1746,
          0.2244,
          0.3975,
          0.1601,
          0.316,
          0.3265,
          0.1312,
          0.3368,
          0.1716,
          0.2113,
          0.4653,
          0.3778,
          0.3677,
          0.2212,
          0.2575,
          0.21,
          0.2571,
          0.2335,
          0.2684,
          0.2976,
          0.2144,
          0.184,
          0.1814,
          0.2619,
          0.3491,
          0.1844,
          0.1601,
          0.3446,
          0.338,
          0.243,
          0.3428,
          0.1707,
          0.361,
          0.3534,
          0.4222,
          0.3602,
          0.3106,
          0.2543,
          0.5381,
          0.5079,
          0.3511,
          0.2621,
          0.2213,
          0.3389,
          0.1584,
          0.2527,
          0.1783,
          0.1705,
          0.1745,
          0.1115,
          0.1689,
          0.1402,
          0.2562,
          0.1642,
          0.1194,
          0.2608,
          0.1833,
          0.2666,
          0.2541,
          0.3305,
          0.1911,
          0.5169,
          0.2841,
          0.1504,
          0.2136,
          0.3639,
          0.1855,
          0.3438,
          0.2522,
          0.2357,
          0.1458,
          0.3833,
          0.3796,
          0.2387,
          0.4993,
          0.3342,
          0.1916,
          0.1967,
          0.1186,
          0.3186,
          0.2747,
          0.4302,
          0.2253,
          0.2865,
          0.2864,
          0.5462,
          0.2456,
          0.2244,
          0.6965,
          0.1851,
          0.3276,
          0.3077,
          0.1415,
          0.2954,
          0.1767,
          0.3028,
          0.3665,
          0.3892,
          0.3419,
          0.2142,
          0.2574,
          0.3563,
          0.1818,
          0.2623,
          0.2204,
          0.2535,
          0.256,
          0.1912,
          0.306,
          0.1692,
          0.3408,
          0.3135,
          0.2084,
          0.2621,
          0.1781,
          0.2315,
          0.1816,
          0.2023,
          0.281,
          0.3152,
          0.3416,
          0.4101,
          0.3776,
          0.6061,
          0.2446,
          0.4455,
          0.1482,
          0.1499,
          0.3478,
          0.1555,
          0.2034,
          0.2194,
          0.3316,
          0.1588,
          0.2431,
          0.163,
          0.3921,
          0.2204,
          0.3713,
          0.2239,
          0.4834,
          0.3276,
          0.3237,
          0.2323,
          0.2324,
          0.1532,
          0.372,
          0.2577,
          0.4076,
          0.2744,
          0.1811,
          0.1779,
          0.2067,
          0.1924,
          0.2182,
          0.4165,
          0.243,
          0.4426,
          0.3834,
          0.3538,
          0.1344,
          0.3191,
          0.2498,
          0.1267,
          0.1998,
          0.1166,
          0.5461,
          0.2513,
          0.4384,
          0.2067,
          0.2047,
          0.1507,
          0.2957,
          0.3777,
          0.2196,
          0.2784,
          0.2542,
          0.3031,
          0.2351,
          0.272,
          0.346,
          0.2104,
          0.1144,
          0.2957,
          0.5196,
          0.3163,
          0.28,
          0.2409,
          0.3013,
          0.2116,
          0.2199,
          0.2441,
          0.5375,
          0.2254,
          0.2388,
          0.3645,
          0.3141,
          0.3857
         ],
         "z": [
          15.11,
          14.5,
          10.23,
          13.3,
          8.964,
          13.76,
          15.15,
          12.98,
          14.67,
          13.1,
          12.84,
          14.23,
          9.507,
          11.02,
          9.565,
          10.01,
          10.41,
          12.33,
          10.31,
          13.46,
          9.733,
          14.11,
          14.08,
          14.24,
          13.11,
          15.53,
          13.67,
          13.83,
          16.34,
          16.11,
          16.36,
          15.1,
          12.83,
          10.92,
          13.06,
          7.93,
          13.34,
          10.76,
          11.54,
          13.14,
          13.29,
          13.01,
          11.05,
          13.33,
          15.3,
          11.16,
          9.628,
          13.67,
          9.414,
          12.82,
          15.7,
          14.26,
          15.49,
          16.11,
          13.34,
          17.5,
          13.33,
          12.32,
          11.92,
          10.62,
          12.78,
          14.48,
          11.95,
          13.15,
          16.25,
          15.85,
          15.34,
          14.16,
          9.092,
          11.02,
          11.99,
          14.77,
          13.59,
          18.22,
          13.14,
          12.36,
          13.32,
          13.58,
          15.98,
          11.6,
          16.11,
          13.5,
          11.35,
          11.54,
          9.262,
          11.26,
          14,
          13.63,
          12.37,
          11.87,
          13.01,
          12.57,
          13.35,
          13.75,
          9.968,
          13.88,
          14.44,
          14.97,
          10.42,
          14.55,
          17.38,
          13.3,
          13.25,
          11.48,
          15.34,
          14.98,
          11.17,
          15.14,
          16.77,
          11.52,
          16.41,
          14.2,
          12.08,
          12.36,
          10.51,
          15.33,
          15.75,
          14.85,
          13.2,
          12.58,
          15.01,
          11.48,
          13.94,
          14.39,
          12.25,
          12.65,
          12.97,
          11.88,
          14.8,
          13.9,
          11.69,
          14.91,
          12.32,
          10.75,
          12.4,
          12.2,
          15.5,
          14.98,
          13.31,
          13.9,
          13.5,
          13.24,
          13.62,
          11.86,
          12.36,
          15.77,
          16.25,
          13.74,
          13.06,
          13.5,
          14.67,
          11.37,
          16.22,
          10.93,
          13.46,
          11.06,
          12.68,
          12.44,
          14.41,
          9.699,
          14.97,
          14.73,
          12.61,
          16.46,
          14.19,
          12.34,
          8.952,
          13.34,
          12.85,
          10.06,
          12.9,
          11.28,
          14.04,
          13.75,
          13.71,
          15.53,
          13.07,
          14.42,
          11.98,
          12.76,
          13.35,
          13.72,
          11.16,
          16.67,
          10.75,
          11.92,
          13.06,
          10.88,
          13.64,
          17.27,
          12.51,
          12.81,
          13.28,
          12.12,
          13.37,
          14.19,
          15.11,
          9.981,
          12.02,
          13.72,
          14.2,
          13.75,
          18.13,
          14.73,
          14.29,
          16.2,
          14.84,
          16.97,
          10.85,
          14.69,
          14.54,
          12.84,
          12.09,
          12.57,
          14.18,
          14.24,
          13.13,
          15.51,
          12.04,
          11.38,
          10.17,
          13.56,
          14.92,
          14.8,
          13.74,
          12.68,
          13.45,
          13.8,
          14.13,
          13.86,
          13.18,
          12.4,
          17.71,
          14.4,
          14.1,
          13.05,
          12.41,
          9.965,
          16.76,
          13.05,
          10.85,
          13.65,
          12.36,
          13.07,
          16.46,
          12.64,
          15.14,
          11.21,
          11.11,
          12.13,
          12.76,
          11.68,
          13.82,
          12.88,
          16.31,
          14.45,
          15.66,
          15.63,
          14.91,
          12.36,
          15.27,
          10.94,
          12.98,
          16.43,
          16.3,
          12.79,
          13.09,
          15.8,
          14.34,
          15.05,
          13.12,
          14.35,
          14.34,
          10.67,
          15.4,
          12.77,
          14.9,
          15.44,
          14.8,
          11.15,
          13.36,
          11.14,
          13.6,
          17.18,
          13.45,
          11.94,
          14.09,
          16.45,
          15.14,
          12.4,
          13.34,
          16.41,
          14.83,
          14.96,
          17.01,
          13.78,
          16.46,
          13.32,
          14.17,
          19.82,
          13.19,
          14.5,
          16.01,
          14.38,
          14.06,
          16.76,
          13.57,
          10.28,
          10.6,
          13.16,
          11.69,
          17.32,
          12.45,
          15.61,
          16.76,
          12.47,
          15.05,
          14.45,
          10.57,
          11.93,
          15.11,
          11.24,
          9.473,
          15.35,
          13.61,
          14.62,
          13.45,
          13.5,
          13.35,
          15.85,
          11.62,
          12.98,
          9.077,
          8.678,
          12.26,
          16.22,
          16.51,
          14.37,
          15.05,
          15.35,
          11.25,
          10.83,
          10.93,
          13.03,
          11.66,
          12.02,
          13.87,
          9.845,
          13.89,
          10.84,
          10.65,
          10.49,
          15.48,
          12.48,
          15.3,
          11.92,
          9.456
         ]
        }
       ],
       "layout": {
        "coloraxis": {
         "colorbar": {
          "title": {
           "text": "Diagnosis"
          }
         },
         "colorscale": [
          [
           0,
           "#0d0887"
          ],
          [
           0.1111111111111111,
           "#46039f"
          ],
          [
           0.2222222222222222,
           "#7201a8"
          ],
          [
           0.3333333333333333,
           "#9c179e"
          ],
          [
           0.4444444444444444,
           "#bd3786"
          ],
          [
           0.5555555555555556,
           "#d8576b"
          ],
          [
           0.6666666666666666,
           "#ed7953"
          ],
          [
           0.7777777777777778,
           "#fb9f3a"
          ],
          [
           0.8888888888888888,
           "#fdca26"
          ],
          [
           1,
           "#f0f921"
          ]
         ]
        },
        "legend": {
         "title": {
          "text": "Diagnosis"
         },
         "tracegroupgap": 0
        },
        "margin": {
         "t": 60
        },
        "scene": {
         "domain": {
          "x": [
           0,
           1
          ],
          "y": [
           0,
           1
          ]
         },
         "xaxis": {
          "title": {
           "text": "radius1"
          }
         },
         "yaxis": {
          "title": {
           "text": "radius2"
          }
         },
         "zaxis": {
          "title": {
           "text": "radius3"
          }
         }
        },
        "template": {
         "data": {
          "bar": [
           {
            "error_x": {
             "color": "#2a3f5f"
            },
            "error_y": {
             "color": "#2a3f5f"
            },
            "marker": {
             "line": {
              "color": "#E5ECF6",
              "width": 0.5
             },
             "pattern": {
              "fillmode": "overlay",
              "size": 10,
              "solidity": 0.2
             }
            },
            "type": "bar"
           }
          ],
          "barpolar": [
           {
            "marker": {
             "line": {
              "color": "#E5ECF6",
              "width": 0.5
             },
             "pattern": {
              "fillmode": "overlay",
              "size": 10,
              "solidity": 0.2
             }
            },
            "type": "barpolar"
           }
          ],
          "carpet": [
           {
            "aaxis": {
             "endlinecolor": "#2a3f5f",
             "gridcolor": "white",
             "linecolor": "white",
             "minorgridcolor": "white",
             "startlinecolor": "#2a3f5f"
            },
            "baxis": {
             "endlinecolor": "#2a3f5f",
             "gridcolor": "white",
             "linecolor": "white",
             "minorgridcolor": "white",
             "startlinecolor": "#2a3f5f"
            },
            "type": "carpet"
           }
          ],
          "choropleth": [
           {
            "colorbar": {
             "outlinewidth": 0,
             "ticks": ""
            },
            "type": "choropleth"
           }
          ],
          "contour": [
           {
            "colorbar": {
             "outlinewidth": 0,
             "ticks": ""
            },
            "colorscale": [
             [
              0,
              "#0d0887"
             ],
             [
              0.1111111111111111,
              "#46039f"
             ],
             [
              0.2222222222222222,
              "#7201a8"
             ],
             [
              0.3333333333333333,
              "#9c179e"
             ],
             [
              0.4444444444444444,
              "#bd3786"
             ],
             [
              0.5555555555555556,
              "#d8576b"
             ],
             [
              0.6666666666666666,
              "#ed7953"
             ],
             [
              0.7777777777777778,
              "#fb9f3a"
             ],
             [
              0.8888888888888888,
              "#fdca26"
             ],
             [
              1,
              "#f0f921"
             ]
            ],
            "type": "contour"
           }
          ],
          "contourcarpet": [
           {
            "colorbar": {
             "outlinewidth": 0,
             "ticks": ""
            },
            "type": "contourcarpet"
           }
          ],
          "heatmap": [
           {
            "colorbar": {
             "outlinewidth": 0,
             "ticks": ""
            },
            "colorscale": [
             [
              0,
              "#0d0887"
             ],
             [
              0.1111111111111111,
              "#46039f"
             ],
             [
              0.2222222222222222,
              "#7201a8"
             ],
             [
              0.3333333333333333,
              "#9c179e"
             ],
             [
              0.4444444444444444,
              "#bd3786"
             ],
             [
              0.5555555555555556,
              "#d8576b"
             ],
             [
              0.6666666666666666,
              "#ed7953"
             ],
             [
              0.7777777777777778,
              "#fb9f3a"
             ],
             [
              0.8888888888888888,
              "#fdca26"
             ],
             [
              1,
              "#f0f921"
             ]
            ],
            "type": "heatmap"
           }
          ],
          "heatmapgl": [
           {
            "colorbar": {
             "outlinewidth": 0,
             "ticks": ""
            },
            "colorscale": [
             [
              0,
              "#0d0887"
             ],
             [
              0.1111111111111111,
              "#46039f"
             ],
             [
              0.2222222222222222,
              "#7201a8"
             ],
             [
              0.3333333333333333,
              "#9c179e"
             ],
             [
              0.4444444444444444,
              "#bd3786"
             ],
             [
              0.5555555555555556,
              "#d8576b"
             ],
             [
              0.6666666666666666,
              "#ed7953"
             ],
             [
              0.7777777777777778,
              "#fb9f3a"
             ],
             [
              0.8888888888888888,
              "#fdca26"
             ],
             [
              1,
              "#f0f921"
             ]
            ],
            "type": "heatmapgl"
           }
          ],
          "histogram": [
           {
            "marker": {
             "pattern": {
              "fillmode": "overlay",
              "size": 10,
              "solidity": 0.2
             }
            },
            "type": "histogram"
           }
          ],
          "histogram2d": [
           {
            "colorbar": {
             "outlinewidth": 0,
             "ticks": ""
            },
            "colorscale": [
             [
              0,
              "#0d0887"
             ],
             [
              0.1111111111111111,
              "#46039f"
             ],
             [
              0.2222222222222222,
              "#7201a8"
             ],
             [
              0.3333333333333333,
              "#9c179e"
             ],
             [
              0.4444444444444444,
              "#bd3786"
             ],
             [
              0.5555555555555556,
              "#d8576b"
             ],
             [
              0.6666666666666666,
              "#ed7953"
             ],
             [
              0.7777777777777778,
              "#fb9f3a"
             ],
             [
              0.8888888888888888,
              "#fdca26"
             ],
             [
              1,
              "#f0f921"
             ]
            ],
            "type": "histogram2d"
           }
          ],
          "histogram2dcontour": [
           {
            "colorbar": {
             "outlinewidth": 0,
             "ticks": ""
            },
            "colorscale": [
             [
              0,
              "#0d0887"
             ],
             [
              0.1111111111111111,
              "#46039f"
             ],
             [
              0.2222222222222222,
              "#7201a8"
             ],
             [
              0.3333333333333333,
              "#9c179e"
             ],
             [
              0.4444444444444444,
              "#bd3786"
             ],
             [
              0.5555555555555556,
              "#d8576b"
             ],
             [
              0.6666666666666666,
              "#ed7953"
             ],
             [
              0.7777777777777778,
              "#fb9f3a"
             ],
             [
              0.8888888888888888,
              "#fdca26"
             ],
             [
              1,
              "#f0f921"
             ]
            ],
            "type": "histogram2dcontour"
           }
          ],
          "mesh3d": [
           {
            "colorbar": {
             "outlinewidth": 0,
             "ticks": ""
            },
            "type": "mesh3d"
           }
          ],
          "parcoords": [
           {
            "line": {
             "colorbar": {
              "outlinewidth": 0,
              "ticks": ""
             }
            },
            "type": "parcoords"
           }
          ],
          "pie": [
           {
            "automargin": true,
            "type": "pie"
           }
          ],
          "scatter": [
           {
            "fillpattern": {
             "fillmode": "overlay",
             "size": 10,
             "solidity": 0.2
            },
            "type": "scatter"
           }
          ],
          "scatter3d": [
           {
            "line": {
             "colorbar": {
              "outlinewidth": 0,
              "ticks": ""
             }
            },
            "marker": {
             "colorbar": {
              "outlinewidth": 0,
              "ticks": ""
             }
            },
            "type": "scatter3d"
           }
          ],
          "scattercarpet": [
           {
            "marker": {
             "colorbar": {
              "outlinewidth": 0,
              "ticks": ""
             }
            },
            "type": "scattercarpet"
           }
          ],
          "scattergeo": [
           {
            "marker": {
             "colorbar": {
              "outlinewidth": 0,
              "ticks": ""
             }
            },
            "type": "scattergeo"
           }
          ],
          "scattergl": [
           {
            "marker": {
             "colorbar": {
              "outlinewidth": 0,
              "ticks": ""
             }
            },
            "type": "scattergl"
           }
          ],
          "scattermapbox": [
           {
            "marker": {
             "colorbar": {
              "outlinewidth": 0,
              "ticks": ""
             }
            },
            "type": "scattermapbox"
           }
          ],
          "scatterpolar": [
           {
            "marker": {
             "colorbar": {
              "outlinewidth": 0,
              "ticks": ""
             }
            },
            "type": "scatterpolar"
           }
          ],
          "scatterpolargl": [
           {
            "marker": {
             "colorbar": {
              "outlinewidth": 0,
              "ticks": ""
             }
            },
            "type": "scatterpolargl"
           }
          ],
          "scatterternary": [
           {
            "marker": {
             "colorbar": {
              "outlinewidth": 0,
              "ticks": ""
             }
            },
            "type": "scatterternary"
           }
          ],
          "surface": [
           {
            "colorbar": {
             "outlinewidth": 0,
             "ticks": ""
            },
            "colorscale": [
             [
              0,
              "#0d0887"
             ],
             [
              0.1111111111111111,
              "#46039f"
             ],
             [
              0.2222222222222222,
              "#7201a8"
             ],
             [
              0.3333333333333333,
              "#9c179e"
             ],
             [
              0.4444444444444444,
              "#bd3786"
             ],
             [
              0.5555555555555556,
              "#d8576b"
             ],
             [
              0.6666666666666666,
              "#ed7953"
             ],
             [
              0.7777777777777778,
              "#fb9f3a"
             ],
             [
              0.8888888888888888,
              "#fdca26"
             ],
             [
              1,
              "#f0f921"
             ]
            ],
            "type": "surface"
           }
          ],
          "table": [
           {
            "cells": {
             "fill": {
              "color": "#EBF0F8"
             },
             "line": {
              "color": "white"
             }
            },
            "header": {
             "fill": {
              "color": "#C8D4E3"
             },
             "line": {
              "color": "white"
             }
            },
            "type": "table"
           }
          ]
         },
         "layout": {
          "annotationdefaults": {
           "arrowcolor": "#2a3f5f",
           "arrowhead": 0,
           "arrowwidth": 1
          },
          "autotypenumbers": "strict",
          "coloraxis": {
           "colorbar": {
            "outlinewidth": 0,
            "ticks": ""
           }
          },
          "colorscale": {
           "diverging": [
            [
             0,
             "#8e0152"
            ],
            [
             0.1,
             "#c51b7d"
            ],
            [
             0.2,
             "#de77ae"
            ],
            [
             0.3,
             "#f1b6da"
            ],
            [
             0.4,
             "#fde0ef"
            ],
            [
             0.5,
             "#f7f7f7"
            ],
            [
             0.6,
             "#e6f5d0"
            ],
            [
             0.7,
             "#b8e186"
            ],
            [
             0.8,
             "#7fbc41"
            ],
            [
             0.9,
             "#4d9221"
            ],
            [
             1,
             "#276419"
            ]
           ],
           "sequential": [
            [
             0,
             "#0d0887"
            ],
            [
             0.1111111111111111,
             "#46039f"
            ],
            [
             0.2222222222222222,
             "#7201a8"
            ],
            [
             0.3333333333333333,
             "#9c179e"
            ],
            [
             0.4444444444444444,
             "#bd3786"
            ],
            [
             0.5555555555555556,
             "#d8576b"
            ],
            [
             0.6666666666666666,
             "#ed7953"
            ],
            [
             0.7777777777777778,
             "#fb9f3a"
            ],
            [
             0.8888888888888888,
             "#fdca26"
            ],
            [
             1,
             "#f0f921"
            ]
           ],
           "sequentialminus": [
            [
             0,
             "#0d0887"
            ],
            [
             0.1111111111111111,
             "#46039f"
            ],
            [
             0.2222222222222222,
             "#7201a8"
            ],
            [
             0.3333333333333333,
             "#9c179e"
            ],
            [
             0.4444444444444444,
             "#bd3786"
            ],
            [
             0.5555555555555556,
             "#d8576b"
            ],
            [
             0.6666666666666666,
             "#ed7953"
            ],
            [
             0.7777777777777778,
             "#fb9f3a"
            ],
            [
             0.8888888888888888,
             "#fdca26"
            ],
            [
             1,
             "#f0f921"
            ]
           ]
          },
          "colorway": [
           "#636efa",
           "#EF553B",
           "#00cc96",
           "#ab63fa",
           "#FFA15A",
           "#19d3f3",
           "#FF6692",
           "#B6E880",
           "#FF97FF",
           "#FECB52"
          ],
          "font": {
           "color": "#2a3f5f"
          },
          "geo": {
           "bgcolor": "white",
           "lakecolor": "white",
           "landcolor": "#E5ECF6",
           "showlakes": true,
           "showland": true,
           "subunitcolor": "white"
          },
          "hoverlabel": {
           "align": "left"
          },
          "hovermode": "closest",
          "mapbox": {
           "style": "light"
          },
          "paper_bgcolor": "white",
          "plot_bgcolor": "#E5ECF6",
          "polar": {
           "angularaxis": {
            "gridcolor": "white",
            "linecolor": "white",
            "ticks": ""
           },
           "bgcolor": "#E5ECF6",
           "radialaxis": {
            "gridcolor": "white",
            "linecolor": "white",
            "ticks": ""
           }
          },
          "scene": {
           "xaxis": {
            "backgroundcolor": "#E5ECF6",
            "gridcolor": "white",
            "gridwidth": 2,
            "linecolor": "white",
            "showbackground": true,
            "ticks": "",
            "zerolinecolor": "white"
           },
           "yaxis": {
            "backgroundcolor": "#E5ECF6",
            "gridcolor": "white",
            "gridwidth": 2,
            "linecolor": "white",
            "showbackground": true,
            "ticks": "",
            "zerolinecolor": "white"
           },
           "zaxis": {
            "backgroundcolor": "#E5ECF6",
            "gridcolor": "white",
            "gridwidth": 2,
            "linecolor": "white",
            "showbackground": true,
            "ticks": "",
            "zerolinecolor": "white"
           }
          },
          "shapedefaults": {
           "line": {
            "color": "#2a3f5f"
           }
          },
          "ternary": {
           "aaxis": {
            "gridcolor": "white",
            "linecolor": "white",
            "ticks": ""
           },
           "baxis": {
            "gridcolor": "white",
            "linecolor": "white",
            "ticks": ""
           },
           "bgcolor": "#E5ECF6",
           "caxis": {
            "gridcolor": "white",
            "linecolor": "white",
            "ticks": ""
           }
          },
          "title": {
           "x": 0.05
          },
          "xaxis": {
           "automargin": true,
           "gridcolor": "white",
           "linecolor": "white",
           "ticks": "",
           "title": {
            "standoff": 15
           },
           "zerolinecolor": "white",
           "zerolinewidth": 2
          },
          "yaxis": {
           "automargin": true,
           "gridcolor": "white",
           "linecolor": "white",
           "ticks": "",
           "title": {
            "standoff": 15
           },
           "zerolinecolor": "white",
           "zerolinewidth": 2
          }
         }
        }
       }
      }
     },
     "metadata": {},
     "output_type": "display_data"
    }
   ],
   "source": [
    "fig = px.scatter_3d(full_df, x='radius1', y='radius2', z='radius3',\n",
    "                    color='Diagnosis', symbol='Diagnosis')\n",
    "fig.show() # 3D plot of radius means, worst instances, and standard deviations with color-indicated diagnosis"
   ]
  },
  {
   "cell_type": "markdown",
   "metadata": {},
   "source": [
    "This visualization highlights the obvious trend-the larger the tumor, the higher the probability of its malignancy."
   ]
  },
  {
   "cell_type": "code",
   "execution_count": 13,
   "metadata": {},
   "outputs": [
    {
     "data": {
      "image/png": "[encoded data removed]",
      "text/plain": [
       "<Figure size 2000x500 with 2 Axes>"
      ]
     },
     "metadata": {},
     "output_type": "display_data"
    }
   ],
   "source": [
    "_, ax = plt.subplots(1,2, figsize = (20,5))\n",
    "sns.violinplot(y='radius1', hue=\"Diagnosis\", data=std_full_df, inner='quartile', palette='muted', split = True, ax=ax[0]).set_title(\"Radius mean distribution depending on the Diagnosis\")\n",
    "sns.violinplot(y='concave_points1', hue=\"Diagnosis\", data=std_full_df, inner='quartile', palette='muted', split = True, ax=ax[1]).set_title(\"Concave_points mean distribution depending on the Diagnosis\")\n",
    "plt.show()"
   ]
  },
  {
   "cell_type": "code",
   "execution_count": 14,
   "metadata": {},
   "outputs": [
    {
     "data": {
      "image/png": "[encoded data removed]",
      "text/plain": [
       "<Figure size 640x480 with 1 Axes>"
      ]
     },
     "metadata": {},
     "output_type": "display_data"
    }
   ],
   "source": [
    "cols_of_interest = corr_graph_data[1:6].index\n",
    "plt.boxplot(std_full_df[cols_of_interest], showfliers=True, labels=cols_of_interest)\n",
    "plt.tight_layout()\n",
    "plt.show()"
   ]
  },
  {
   "cell_type": "markdown",
   "metadata": {},
   "source": [
    "Concave points don't have as many outliers as other important features. Also, standardized radius3 is still quite similarly distributed as perimeter1, though they are not as closely correlated as radius1 and perimeter1. The outliers of radii and perimeters unfortunately belong to bigger masses, probably malignant."
   ]
  },
  {
   "cell_type": "code",
   "execution_count": 15,
   "metadata": {},
   "outputs": [
    {
     "data": {
      "image/png": "[encoded data removed]",
      "text/plain": [
       "<Figure size 2000x500 with 2 Axes>"
      ]
     },
     "metadata": {},
     "output_type": "display_data"
    }
   ],
   "source": [
    "_, ax = plt.subplots(1,2, figsize = (20,5))\n",
    "ax[0].hist(std_full_df.concave_points3, bins=200)\n",
    "ax[0].set_title(\"Standardized concave_points_worst histogram\")\n",
    "ax[1].hist(std_full_df.perimeter1, bins=200)\n",
    "ax[1].set_title(\"Standardized perimeter_mean histogram\")\n",
    "plt.show()"
   ]
  },
  {
   "cell_type": "markdown",
   "metadata": {},
   "source": [
    "These histograms show the same take-away as the above box plots => concave points are more centered around the mean than perimeter, while the perimeter seems to be more symmetrically distributed (less right skewed). "
   ]
  },
  {
   "cell_type": "markdown",
   "metadata": {},
   "source": [
    "# Random Forest"
   ]
  },
  {
   "cell_type": "markdown",
   "metadata": {},
   "source": [
    "Due to the unbalanced starting sample, a higher weight is attached to the malignant tumors, as there are fewer malignant diagnozes in the given dataset."
   ]
  },
  {
   "cell_type": "code",
   "execution_count": 16,
   "metadata": {},
   "outputs": [
    {
     "name": "stderr",
     "output_type": "stream",
     "text": [
      "C:\\Users\\Luka\\AppData\\Local\\Temp\\ipykernel_17944\\1058134688.py:3: DataConversionWarning:\n",
      "\n",
      "A column-vector y was passed when a 1d array was expected. Please change the shape of y to (n_samples,), for example using ravel().\n",
      "\n"
     ]
    }
   ],
   "source": [
    "X_train, X_test, y_train, y_test = train_test_split(feat_df, tgt_df, test_size=0.3, random_state=42)\n",
    "model = RandomForestClassifier(random_state=42, class_weight={0:1, 1:1.5}, n_estimators=88)\n",
    "model.fit(X_train, y_train)\n",
    "y_pred = model.predict(X_test)"
   ]
  },
  {
   "cell_type": "code",
   "execution_count": 17,
   "metadata": {},
   "outputs": [
    {
     "data": {
      "image/png": "[encoded data removed]",
      "text/plain": [
       "<Figure size 640x480 with 2 Axes>"
      ]
     },
     "metadata": {},
     "output_type": "display_data"
    }
   ],
   "source": [
    "c = confusion_matrix(y_test, y_pred)\n",
    "ConfusionMatrixDisplay(c).plot()\n",
    "plt.grid(visible=False)\n",
    "plt.show()"
   ]
  },
  {
   "cell_type": "code",
   "execution_count": 18,
   "metadata": {},
   "outputs": [
    {
     "name": "stdout",
     "output_type": "stream",
     "text": [
      "Only 3 false negatives were predicted, along with 1 false positive in the test sample of 171 tumors.\n"
     ]
    }
   ],
   "source": [
    "print(f\"Only 3 false negatives were predicted, along with 1 false positive in the test sample of {len(X_test)} tumors.\")"
   ]
  },
  {
   "cell_type": "code",
   "execution_count": 19,
   "metadata": {},
   "outputs": [
    {
     "name": "stdout",
     "output_type": "stream",
     "text": [
      "              precision    recall  f1-score   support\n",
      "\n",
      "           0     0.9727    0.9907    0.9817       108\n",
      "           1     0.9836    0.9524    0.9677        63\n",
      "\n",
      "    accuracy                         0.9766       171\n",
      "   macro avg     0.9782    0.9716    0.9747       171\n",
      "weighted avg     0.9767    0.9766    0.9765       171\n",
      "\n"
     ]
    }
   ],
   "source": [
    "print(str(classification_report(y_test, y_pred, digits=4)))"
   ]
  },
  {
   "cell_type": "code",
   "execution_count": 20,
   "metadata": {},
   "outputs": [
    {
     "data": {
      "image/png": "[encoded data removed]",
      "text/plain": [
       "<Figure size 640x480 with 1 Axes>"
      ]
     },
     "metadata": {},
     "output_type": "display_data"
    }
   ],
   "source": [
    "falpos, trupos, _ = roc_curve(y_test, model.predict_proba(X_test)[:,1])\n",
    "plt.plot(falpos, trupos)\n",
    "plt.xlabel('False Positive Rate')\n",
    "plt.ylabel('True Positive Rate')\n",
    "plt.show()"
   ]
  },
  {
   "cell_type": "code",
   "execution_count": 21,
   "metadata": {},
   "outputs": [
    {
     "name": "stdout",
     "output_type": "stream",
     "text": [
      "Model AUC score: 0.9978\n"
     ]
    }
   ],
   "source": [
    "print(f\"Model AUC score: {round(roc_auc_score(y_test, model.predict_proba(X_test)[:,1]), 4)}\")"
   ]
  },
  {
   "cell_type": "markdown",
   "metadata": {},
   "source": [
    "# Feature selection"
   ]
  },
  {
   "cell_type": "code",
   "execution_count": 22,
   "metadata": {},
   "outputs": [
    {
     "data": {
      "image/png": "[encoded data removed]",
      "text/plain": [
       "<Figure size 640x480 with 1 Axes>"
      ]
     },
     "metadata": {},
     "output_type": "display_data"
    }
   ],
   "source": [
    "feature_importance = pd.Series(model.feature_importances_, index=feats).sort_values()\n",
    "feature_importance.plot(kind='barh')\n",
    "plt.title('Feature Importance')\n",
    "plt.show()"
   ]
  },
  {
   "cell_type": "markdown",
   "metadata": {},
   "source": [
    "Features below perimeter1 in the above diagram have significantly lower importance, thus an arbitrary number of 6 features will be used to demonstrate the redundancy in the dataset."
   ]
  },
  {
   "cell_type": "code",
   "execution_count": 23,
   "metadata": {},
   "outputs": [
    {
     "name": "stdout",
     "output_type": "stream",
     "text": [
      "10\n",
      "Index(['area3', 'concave_points1', 'concavity3', 'area2', 'texture3',\n",
      "       'compactness3'],\n",
      "      dtype='object') 6\n"
     ]
    }
   ],
   "source": [
    "feats_to_keep = feat_df[feature_importance.sort_values(ascending=False).index]\n",
    "correlation_matrix = feats_to_keep.corr()\n",
    "\n",
    "upper_triangle = correlation_matrix.where(np.triu(np.ones(correlation_matrix.shape), k=1).astype(bool)) # filter only the upper triangular matrix\n",
    "to_drop = [column for column in upper_triangle.columns if any(upper_triangle[column] > 0.9)] # remove highly correlated features\n",
    "\n",
    "final_feats_to_keep = feature_importance.drop(index=to_drop).nlargest(6).index # another filter to bound the number of used features to 6 or below\n",
    "print(np.array([any(upper_triangle[column] > 0.9) for column in upper_triangle.columns]).sum())\n",
    "print(final_feats_to_keep, len(final_feats_to_keep))"
   ]
  },
  {
   "cell_type": "markdown",
   "metadata": {},
   "source": [
    "# Random Forest with reduced dataset"
   ]
  },
  {
   "cell_type": "code",
   "execution_count": 24,
   "metadata": {},
   "outputs": [
    {
     "name": "stdout",
     "output_type": "stream",
     "text": [
      "398 171\n"
     ]
    },
    {
     "name": "stderr",
     "output_type": "stream",
     "text": [
      "C:\\Users\\Luka\\AppData\\Local\\Temp\\ipykernel_17944\\1572142654.py:4: DataConversionWarning:\n",
      "\n",
      "A column-vector y was passed when a 1d array was expected. Please change the shape of y to (n_samples,), for example using ravel().\n",
      "\n"
     ]
    }
   ],
   "source": [
    "X_train_r, X_test_r, y_train, y_test = train_test_split(feat_df[final_feats_to_keep], tgt_df, test_size=0.3, random_state=42)\n",
    "print(len(X_train_r), len(X_test_r))\n",
    "model = RandomForestClassifier(random_state=42)\n",
    "model.fit(X_train_r, y_train)\n",
    "y_pred = model.predict(X_test_r)"
   ]
  },
  {
   "cell_type": "code",
   "execution_count": 25,
   "metadata": {},
   "outputs": [
    {
     "data": {
      "image/png": "[encoded data removed]",
      "text/plain": [
       "<Figure size 640x480 with 1 Axes>"
      ]
     },
     "metadata": {},
     "output_type": "display_data"
    }
   ],
   "source": [
    "feature_importance = pd.Series(model.feature_importances_).sort_values()\n",
    "feature_importance.index = np.array(final_feats_to_keep)[np.array(feature_importance.index)]\n",
    "feature_importance.plot(kind='barh')\n",
    "plt.title('Selected Feature Importance for Random Forest')\n",
    "plt.show()"
   ]
  },
  {
   "cell_type": "code",
   "execution_count": 26,
   "metadata": {},
   "outputs": [
    {
     "data": {
      "image/png": "[encoded data removed]",
      "text/plain": [
       "<Figure size 640x480 with 2 Axes>"
      ]
     },
     "metadata": {},
     "output_type": "display_data"
    }
   ],
   "source": [
    "c = confusion_matrix(y_test, y_pred)\n",
    "ConfusionMatrixDisplay(c).plot()\n",
    "plt.grid(visible=False)\n",
    "plt.show()"
   ]
  },
  {
   "cell_type": "code",
   "execution_count": 27,
   "metadata": {},
   "outputs": [
    {
     "name": "stdout",
     "output_type": "stream",
     "text": [
      "Only 3 false negatives were predicted, along with no false positive in the test sample of 171 tumors using only the most important features in the dataset, thus proving the redundancy in the remaining 24 features.\n"
     ]
    }
   ],
   "source": [
    "print(f\"Only 3 false negatives were predicted, along with no false positive in the test sample of {len(X_test_r)} tumors using only the most important features in the dataset, thus proving the redundancy in the remaining 24 features.\")"
   ]
  },
  {
   "cell_type": "code",
   "execution_count": 28,
   "metadata": {},
   "outputs": [
    {
     "name": "stdout",
     "output_type": "stream",
     "text": [
      "              precision    recall  f1-score   support\n",
      "\n",
      "           0     0.9730    1.0000    0.9863       108\n",
      "           1     1.0000    0.9524    0.9756        63\n",
      "\n",
      "    accuracy                         0.9825       171\n",
      "   macro avg     0.9865    0.9762    0.9810       171\n",
      "weighted avg     0.9829    0.9825    0.9824       171\n",
      "\n"
     ]
    }
   ],
   "source": [
    "print(str(classification_report(y_test, y_pred, digits=4)))"
   ]
  },
  {
   "cell_type": "code",
   "execution_count": 29,
   "metadata": {},
   "outputs": [
    {
     "data": {
      "text/plain": [
       "Text(0, 0.5, 'True Positive Rate')"
      ]
     },
     "execution_count": 29,
     "metadata": {},
     "output_type": "execute_result"
    },
    {
     "data": {
      "image/png": "[encoded data removed]",
      "text/plain": [
       "<Figure size 640x480 with 1 Axes>"
      ]
     },
     "metadata": {},
     "output_type": "display_data"
    }
   ],
   "source": [
    "falpos, trupos, _ = roc_curve(y_test, model.predict_proba(X_test_r)[:,1])\n",
    "plt.plot(falpos, trupos)\n",
    "plt.xlabel('False Positive Rate')\n",
    "plt.ylabel('True Positive Rate')\n",
    "plt.show()"
   ]
  },
  {
   "cell_type": "code",
   "execution_count": 30,
   "metadata": {},
   "outputs": [
    {
     "name": "stdout",
     "output_type": "stream",
     "text": [
      "Model AUC score: 0.9963\n"
     ]
    }
   ],
   "source": [
    "print(f\"Model AUC score: {round(roc_auc_score(y_test, model.predict_proba(X_test_r)[:,1]), 4)}\")"
   ]
  },
  {
   "cell_type": "markdown",
   "metadata": {},
   "source": [
    "# KNN with full dataset"
   ]
  },
  {
   "cell_type": "code",
   "execution_count": 31,
   "metadata": {},
   "outputs": [
    {
     "name": "stderr",
     "output_type": "stream",
     "text": [
      "c:\\Users\\Luka\\anaconda3\\envs\\lab1\\Lib\\site-packages\\sklearn\\neighbors\\_classification.py:215: DataConversionWarning:\n",
      "\n",
      "A column-vector y was passed when a 1d array was expected. Please change the shape of y to (n_samples,), for example using ravel().\n",
      "\n"
     ]
    }
   ],
   "source": [
    "neigh = KNeighborsClassifier(n_neighbors=5)\n",
    "neigh.fit(X_train,y_train)\n",
    "y_pred = neigh.predict(X_test)"
   ]
  },
  {
   "cell_type": "code",
   "execution_count": 32,
   "metadata": {},
   "outputs": [
    {
     "data": {
      "image/png": "[encoded data removed]",
      "text/plain": [
       "<Figure size 640x480 with 2 Axes>"
      ]
     },
     "metadata": {},
     "output_type": "display_data"
    }
   ],
   "source": [
    "c = confusion_matrix(y_test, y_pred)\n",
    "ConfusionMatrixDisplay(c).plot()\n",
    "plt.grid(visible=False)\n",
    "plt.show()"
   ]
  },
  {
   "cell_type": "code",
   "execution_count": 33,
   "metadata": {},
   "outputs": [
    {
     "name": "stdout",
     "output_type": "stream",
     "text": [
      "Only 6 false negatives were predicted, along with 1 false positive in the test sample of 171 tumors.\n"
     ]
    }
   ],
   "source": [
    "print(f\"Only 6 false negatives were predicted, along with 1 false positive in the test sample of {len(y_test)} tumors.\")"
   ]
  },
  {
   "cell_type": "code",
   "execution_count": 34,
   "metadata": {},
   "outputs": [
    {
     "name": "stdout",
     "output_type": "stream",
     "text": [
      "              precision    recall  f1-score   support\n",
      "\n",
      "           0     0.9469    0.9907    0.9683       108\n",
      "           1     0.9828    0.9048    0.9421        63\n",
      "\n",
      "    accuracy                         0.9591       171\n",
      "   macro avg     0.9648    0.9478    0.9552       171\n",
      "weighted avg     0.9601    0.9591    0.9587       171\n",
      "\n"
     ]
    }
   ],
   "source": [
    "print(str(classification_report(y_test, y_pred, digits=4)))"
   ]
  },
  {
   "cell_type": "code",
   "execution_count": 35,
   "metadata": {},
   "outputs": [
    {
     "data": {
      "text/plain": [
       "Text(0, 0.5, 'True Positive Rate')"
      ]
     },
     "execution_count": 35,
     "metadata": {},
     "output_type": "execute_result"
    },
    {
     "data": {
      "image/png": "[encoded data removed]",
      "text/plain": [
       "<Figure size 640x480 with 1 Axes>"
      ]
     },
     "metadata": {},
     "output_type": "display_data"
    }
   ],
   "source": [
    "falpos, trupos, _ = roc_curve(y_test, neigh.predict_proba(X_test)[:,1])\n",
    "plt.plot(falpos, trupos)\n",
    "plt.xlabel('False Positive Rate')\n",
    "plt.ylabel('True Positive Rate')"
   ]
  },
  {
   "cell_type": "code",
   "execution_count": 36,
   "metadata": {},
   "outputs": [
    {
     "name": "stdout",
     "output_type": "stream",
     "text": [
      "Model AUC score: 0.9953\n"
     ]
    }
   ],
   "source": [
    "print(f\"Model AUC score: {round(roc_auc_score(y_test, neigh.predict_proba(X_test)[:,1]), 4)}\")"
   ]
  },
  {
   "cell_type": "markdown",
   "metadata": {},
   "source": [
    "# SVM with full dataset"
   ]
  },
  {
   "cell_type": "code",
   "execution_count": 37,
   "metadata": {},
   "outputs": [
    {
     "name": "stderr",
     "output_type": "stream",
     "text": [
      "c:\\Users\\Luka\\anaconda3\\envs\\lab1\\Lib\\site-packages\\sklearn\\utils\\validation.py:1143: DataConversionWarning:\n",
      "\n",
      "A column-vector y was passed when a 1d array was expected. Please change the shape of y to (n_samples, ), for example using ravel().\n",
      "\n"
     ]
    }
   ],
   "source": [
    "svmc = SVC(class_weight={0:1, 1:1.5}, random_state=42)\n",
    "svmc.fit(X_train,y_train)\n",
    "y_pred = svmc.predict(X_test)"
   ]
  },
  {
   "cell_type": "code",
   "execution_count": 38,
   "metadata": {},
   "outputs": [
    {
     "data": {
      "image/png": "[encoded data removed]",
      "text/plain": [
       "<Figure size 640x480 with 2 Axes>"
      ]
     },
     "metadata": {},
     "output_type": "display_data"
    }
   ],
   "source": [
    "c = confusion_matrix(y_test, y_pred)\n",
    "ConfusionMatrixDisplay(c).plot()\n",
    "plt.grid(visible=False)\n",
    "plt.show()"
   ]
  },
  {
   "cell_type": "code",
   "execution_count": 39,
   "metadata": {},
   "outputs": [
    {
     "name": "stdout",
     "output_type": "stream",
     "text": [
      "Only 7 false negatives were predicted, along with 2 false positives in the test sample of 171 tumors.\n"
     ]
    }
   ],
   "source": [
    "print(f\"Only 7 false negatives were predicted, along with 2 false positives in the test sample of {len(y_test)} tumors.\")"
   ]
  },
  {
   "cell_type": "markdown",
   "metadata": {},
   "source": [
    "7 2"
   ]
  },
  {
   "cell_type": "code",
   "execution_count": 40,
   "metadata": {},
   "outputs": [
    {
     "name": "stdout",
     "output_type": "stream",
     "text": [
      "              precision    recall  f1-score   support\n",
      "\n",
      "           0     0.9381    0.9815    0.9593       108\n",
      "           1     0.9655    0.8889    0.9256        63\n",
      "\n",
      "    accuracy                         0.9474       171\n",
      "   macro avg     0.9518    0.9352    0.9424       171\n",
      "weighted avg     0.9482    0.9474    0.9469       171\n",
      "\n"
     ]
    }
   ],
   "source": [
    "print(str(classification_report(y_test, y_pred, digits=4)))"
   ]
  },
  {
   "cell_type": "markdown",
   "metadata": {},
   "source": [
    "# SVM with reduced dataset"
   ]
  },
  {
   "cell_type": "code",
   "execution_count": 41,
   "metadata": {},
   "outputs": [
    {
     "name": "stderr",
     "output_type": "stream",
     "text": [
      "c:\\Users\\Luka\\anaconda3\\envs\\lab1\\Lib\\site-packages\\sklearn\\utils\\validation.py:1143: DataConversionWarning:\n",
      "\n",
      "A column-vector y was passed when a 1d array was expected. Please change the shape of y to (n_samples, ), for example using ravel().\n",
      "\n"
     ]
    }
   ],
   "source": [
    "svmc.fit(X_train_r,y_train)\n",
    "y_pred = svmc.predict(X_test_r)"
   ]
  },
  {
   "cell_type": "code",
   "execution_count": 42,
   "metadata": {},
   "outputs": [
    {
     "data": {
      "image/png": "[encoded data removed]",
      "text/plain": [
       "<Figure size 640x480 with 2 Axes>"
      ]
     },
     "metadata": {},
     "output_type": "display_data"
    }
   ],
   "source": [
    "c = confusion_matrix(y_test, y_pred)\n",
    "ConfusionMatrixDisplay(c).plot()\n",
    "plt.grid(visible=False)\n",
    "plt.show()"
   ]
  },
  {
   "cell_type": "code",
   "execution_count": 43,
   "metadata": {},
   "outputs": [
    {
     "name": "stdout",
     "output_type": "stream",
     "text": [
      "Only 7 false negatives were predicted, along with 2 false positives in the test sample of 171 tumors using only the most important features in the dataset, thus proving the redundancy in the remaining 24 features.\n"
     ]
    }
   ],
   "source": [
    "print(f\"Only 7 false negatives were predicted, along with 2 false positives in the test sample of {len(y_test)} tumors using only the most important features in the dataset, thus proving the redundancy in the remaining 24 features.\")"
   ]
  },
  {
   "cell_type": "markdown",
   "metadata": {},
   "source": [
    "Support vector machine model demonstrated slighty lower testing accuracy than reported in the journal, while the Random forest model showed even higher accuracy on the reduced dataset (98 %, compared to the reported 96.5 %). This may be the result of the overfitting, not including the class weights (biased, unbalanced sampling), other model parameter tuning, and even sklearn version."
   ]
  }
 ],
 "metadata": {
  "interpreter": {
   "hash": "e7370f93d1d0cde622a1f8e1c04877d8463912d04d973331ad4851f04de6915a"
  },
  "kernelspec": {
   "display_name": "Python 3 (ipykernel)",
   "language": "python",
   "name": "python3"
  },
  "language_info": {
   "codemirror_mode": {
    "name": "ipython",
    "version": 3
   },
   "file_extension": ".py",
   "mimetype": "text/x-python",
   "name": "python",
   "nbconvert_exporter": "python",
   "pygments_lexer": "ipython3",
   "version": "3.11.5"
  }
 },
 "nbformat": 4,
 "nbformat_minor": 2
}
